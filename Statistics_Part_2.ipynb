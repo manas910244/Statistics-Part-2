{
  "nbformat": 4,
  "nbformat_minor": 0,
  "metadata": {
    "colab": {
      "provenance": []
    },
    "kernelspec": {
      "name": "python3",
      "display_name": "Python 3"
    },
    "language_info": {
      "name": "python"
    }
  },
  "cells": [
    {
      "cell_type": "markdown",
      "source": [
        "#1- What is hypothesis testing in statistics?\n",
        "- Hypothesis testing in statistics is a method used to make decisions about a population based on sample data. It involves formulating two competing hypotheses: the null hypothesis (H₀), which assumes no effect or no difference (e.g., \"the mean is zero\"), and the alternative hypothesis (H₁ or Hₐ), which suggests the opposite (e.g., \"the mean is not zero\").\n",
        "The process works as follows:\n",
        "Collect sample data and calculate a test statistic (e.g., t-statistic, z-score) based on the sample.\n",
        "\n",
        "Determine the p-value, which measures the probability of observing the data (or more extreme) if the null hypothesis is true.\n",
        "\n",
        "Compare the p-value to a significance level (α, typically 0.05). If the p-value is less than α, reject the null hypothesis in favor of the alternative. Otherwise, fail to reject the null.\n",
        "\n"
      ],
      "metadata": {
        "id": "NPC0-IjOIcub"
      }
    },
    {
      "cell_type": "markdown",
      "source": [
        "#2- What is the null hypothesis, and how does it differ from the alternative hypothesis?\n",
        "- The null hypothesis (H₀) is a statement in hypothesis testing that assumes no effect, no difference, or no relationship in the population. It represents the default or baseline assumption, often phrased as \"nothing is happening\" (e.g., \"the mean of group A equals the mean of group B\" or \"a drug has no effect\").\n",
        "The alternative hypothesis (H₁ or Hₐ) is the opposing statement, suggesting that there is an effect, difference, or relationship (e.g., \"the mean of group A is different from group B\" or \"the drug has an effect\").\n",
        "Key differences:\n",
        "Purpose: H₀ is tested to see if it can be rejected, while H₁ is what you aim to support if evidence suggests H₀ is unlikely.\n",
        "\n",
        "Formulation: H₀ typically includes equality (e.g., =, ≤, ≥), while H₁ involves inequality (e.g., ≠, >, <).\n",
        "\n",
        "Outcome: Rejecting H₀ supports H₁; failing to reject H₀ means insufficient evidence to favor H₁, not that H₀\n",
        "\n"
      ],
      "metadata": {
        "id": "2wfQS2ZpI6d6"
      }
    },
    {
      "cell_type": "markdown",
      "source": [
        "#3-What is the significance level in hypothesis testing, and why is it important?\n",
        "-The significance level (denoted α) in hypothesis testing is the threshold used to determine when to reject the null hypothesis. It represents the probability of making a Type I error (falsely rejecting the null hypothesis when it is true), often set at 0.05 (5%) or 0.01 (1%).\n",
        "Why it’s important:\n",
        "Decision Rule: It defines how strong the evidence (from the p-value) must be to reject the null hypothesis. If the p-value is less than α, you reject the null; otherwise, you fail to reject it.\n",
        "\n",
        "Controls Error Risk: A lower α (e.g., 0.01) reduces the chance of wrongly rejecting a true null hypothesis, which is critical in fields like medicine or policy where false positives have serious consequences.\n",
        "\n",
        "Standardizes Interpretation: It provides a consistent benchmark for assessing statistical significance across studies, balancing the trade-off between detecting true effects and avoiding false conclusions\n",
        "\n"
      ],
      "metadata": {
        "id": "7oJ_IKUqJQej"
      }
    },
    {
      "cell_type": "markdown",
      "source": [
        "#4-What does a P-value represent in hypothesis testing?\n",
        "- A p-value in hypothesis testing represents the probability of observing data (or more extreme results) assuming the null hypothesis (H₀) is true. It quantifies how compatible the sample data is with H₀.\n",
        "Interpretation: A small p-value (e.g., < 0.05) suggests the data is unlikely under H₀, providing evidence to reject the null in favor of the alternative hypothesis (H₁). A large p-value indicates the data is consistent with H₀, so you fail to reject it.\n",
        "\n",
        "Not Proof: It doesn’t measure the probability that H₀ is true, nor does it indicate the size or importance of an effect—just the strength of evidence against H₀.\n",
        "\n",
        "For example, a p-value of 0.03 means there’s a 3% chance of getting the observed (or more extreme) data if H₀ holds, prompting rejection of H₀ at α = 0.05.\n",
        "\n",
        "Explain Type I and Type II errors\n",
        "\n",
        "What is statistical power\n",
        "\n"
      ],
      "metadata": {
        "id": "wNhgg7jrJjaZ"
      }
    },
    {
      "cell_type": "markdown",
      "source": [
        "#5- How do you interpret the P-value in hypothesis  testing?\n",
        "-Interpreting a p-value in hypothesis testing involves assessing how likely the observed data (or more extreme results) would be if the null hypothesis (H₀) is true. Here’s how to interpret it:\n",
        "Compare to Significance Level (α):\n",
        "If p-value ≤ α (e.g., α = 0.05), the data is unlikely under H₀, so you reject the null hypothesis in favor of the alternative (H₁). This suggests evidence of an effect or difference.\n",
        "\n",
        "If p-value > α, the data is consistent with H₀, so you fail to reject the null hypothesis. This means there’s insufficient evidence to support H₁, but it doesn’t prove H₀ is true.\n",
        "\n",
        "Strength of Evidence:\n",
        "A smaller p-value (e.g., 0.01 vs. 0.04) indicates stronger evidence against H₀.\n",
        "\n",
        "A larger p-value (e.g., 0.20) suggests weaker evidence against H₀.\n",
        "\n",
        "Context Matters: The p-value doesn’t measure the size of an effect, practical significance, or the probability that H₀ or H₁ is true. It only gauges compatibility of the data with H₀.\n",
        "\n",
        "Example: If p = 0.02 and α = 0.05, you reject H₀, concluding the data supports H₁ (e.g., \"the drug has an effect\"). If p = 0.15, you fail to reject H₀, indicating insufficient evidence for H₁.\n",
        "Caution: Avoid overinterpreting. A p-value just above α (e.g., 0.06) doesn’t mean \"no effect,\" and a significant result doesn’t guarantee practical importance. Always consider the study design and context.\n"
      ],
      "metadata": {
        "id": "p8hl7EJjJvPS"
      }
    },
    {
      "cell_type": "markdown",
      "source": [
        "#6- What are Type 1 and Type 2 errors in hypothesis testing?\n",
        "- In hypothesis testing, Type I and Type II errors are mistakes that can occur when making decisions about the null hypothesis (H₀).\n",
        "Type I Error (False Positive):\n",
        "Occurs when you reject H₀ when it is actually true.\n",
        "\n",
        "Example: Concluding a drug is effective (rejecting H₀: \"no effect\") when it isn’t.\n",
        "\n",
        "Probability: Denoted by α, the significance level (e.g., 0.05 means a 5% chance of a Type I error).\n",
        "\n",
        "Think of it as a \"false alarm.\"\n",
        "\n",
        "Type II Error (False Negative):\n",
        "Occurs when you fail to reject H₀ when it is actually false.\n",
        "\n",
        "Example: Concluding a drug is ineffective (failing to reject H₀: \"no effect\") when it actually works.\n",
        "\n",
        "Probability: Denoted by β, often harder to calculate, depending on sample size and effect size.\n",
        "\n",
        "Think of it as \"missing the truth.\"\n",
        "\n"
      ],
      "metadata": {
        "id": "I5Q5ETizKNW0"
      }
    },
    {
      "cell_type": "markdown",
      "source": [
        "#7- What is the difference between a one-tailed and a two-tailed test in hypothesis testing?\n",
        "- In hypothesis testing, one-tailed and two-tailed tests differ in how they assess the alternative hypothesis (H₁) and distribute the significance level (α) in the test.\n",
        "One-Tailed Test:\n",
        "Tests for an effect or difference in one specific direction.\n",
        "\n",
        "H₁ specifies whether the parameter is greater than or less than the null value (e.g., H₀: μ = 10 vs. H₁: μ > 10 or H₁: μ < 10).\n",
        "\n",
        "The entire α (e.g., 0.05) is placed in one tail of the distribution, making it easier to detect an effect in that direction.\n",
        "\n",
        "Example: Testing if a new drug increases recovery rate (H₁: rate > baseline), ignoring the possibility it decreases it.\n",
        "\n",
        "Use case: When you have a strong reason to expect an effect in only one direction.\n",
        "\n",
        "Two-Tailed Test:\n",
        "Tests for an effect or difference in either direction.\n",
        "\n",
        "H₁ specifies the parameter is not equal to the null value (e.g., H₀: μ = 10 vs. H₁: μ ≠ 10).\n",
        "\n",
        "The α is split between both tails of the distribution (e.g., 0.025 in each tail for α = 0.05), making it harder to reject H₀.\n",
        "\n",
        "Example: Testing if a drug changes recovery rate (H₁: rate ≠ baseline), whether it increases or decreases.\n",
        "\n",
        "Use case: When you want to detect any difference, regardless of direction.\n",
        "\n"
      ],
      "metadata": {
        "id": "U75y1VcUKbp9"
      }
    },
    {
      "cell_type": "markdown",
      "source": [
        "#8- What is the Z-test, and when is it used in hypothesis testing?\n",
        "- A Z-test is a statistical hypothesis test used to determine whether a sample statistic (e.g., mean or proportion) significantly differs from a hypothesized population parameter, assuming the test statistic follows a standard normal distribution (Z-distribution).\n",
        "What is a Z-test?\n",
        "It calculates a Z-statistic, which measures how many standard deviations the sample statistic is from the null hypothesis value.\n",
        "\n",
        "Formula for a Z-test (for a mean):\n",
        "Z=xˉ−μ0σ/nZ = \\frac{\\bar{x} - \\mu_0}{\\sigma / \\sqrt{n}}Z = \\frac{\\bar{x} - \\mu_0}{\\sigma / \\sqrt{n}}\n",
        "where:\n",
        "xˉ\\bar{x}\\bar{x}\n",
        ": sample mean\n",
        "\n",
        "μ0\\mu_0\\mu_0\n",
        ": hypothesized population mean (from H₀)\n",
        "\n",
        "σ\\sigma\\sigma\n",
        ": population standard deviation\n",
        "\n",
        "(n): sample size\n",
        "\n",
        "For proportions, the formula adjusts to compare sample and population proportions.\n",
        "\n",
        "The Z-statistic is compared to critical values from the standard normal distribution, or a p-value is calculated to decide whether to reject the null hypothesis (H₀).\n",
        "\n",
        "The Z-test is appropriate under specific conditions:\n",
        "Known Population Variance: The population standard deviation (σ\\sigma\\sigma\n",
        ") must be known. If unknown, a t-test is typically used instead.\n",
        "\n",
        "Large Sample Size: The sample size should be large (typically n≥30n \\geq 30n \\geq 30\n",
        ") to ensure the Central Limit Theorem applies, making the sampling distribution approximately normal. For proportions, both n⋅pn \\cdot pn \\cdot p\n",
        " and n⋅(1−p)n \\cdot (1-p)n \\cdot (1-p)\n",
        " should be ≥ 5.\n",
        "\n",
        "Testing Means or Proportions:\n",
        "Mean: To test if a sample mean differs from a hypothesized population mean (e.g., is the average height of a sample different from 170 cm?).\n",
        "\n",
        "Proportion: To test if a sample proportion differs from a hypothesized population proportion (e.g., does 60% of a sample support a policy vs. a claimed 50%?).\n",
        "\n",
        "One-sample or Two-sample:\n",
        "One-sample Z-test: Compares a single sample to a population (e.g., is a factory’s output different from a target?).\n",
        "\n",
        "Two-sample Z-test: Compares two independent samples (e.g., do two groups have different average scores?).\n",
        "\n",
        "Normality Assumption: The data should be approximately normally distributed, though large samples mitigate this requirement due to the Central Limit Theorem.\n",
        "\n"
      ],
      "metadata": {
        "id": "ywnIXnd1Kxiz"
      }
    },
    {
      "cell_type": "markdown",
      "source": [
        "#9-How do you calculate the Z-score, and what does it represent in hypothesis testing?\n",
        "- How to Calculate the Z-score\n",
        "The Z-score (or Z-statistic) in hypothesis testing measures how many standard deviations a sample statistic (e.g., mean or proportion) is from the hypothesized population parameter under the null hypothesis (H₀). The formula depends on the type of test:\n",
        "For a Sample Mean:\n",
        "Z=xˉ−μ0σ/nZ = \\frac{\\bar{x} - \\mu_0}{\\sigma / \\sqrt{n}}Z = \\frac{\\bar{x} - \\mu_0}{\\sigma / \\sqrt{n}}\n",
        "where:\n",
        "xˉ\\bar{x}\\bar{x}\n",
        ": sample mean\n",
        "\n",
        "μ0\\mu_0\\mu_0\n",
        ": hypothesized population mean (from H₀)\n",
        "\n",
        "σ\\sigma\\sigma\n",
        ": population standard deviation (assumed known)\n",
        "\n",
        "(n): sample size\n",
        "\n",
        "σ/n\\sigma / \\sqrt{n}\\sigma / \\sqrt{n}\n",
        ": standard error (standard deviation of the sampling distribution)\n",
        "\n",
        "For a Sample Proportion:\n",
        "Z=p^−p0p0(1−p0)nZ = \\frac{\\hat{p} - p_0}{\\sqrt{\\frac{p_0 (1 - p_0)}{n}}}Z = \\frac{\\hat{p} - p_0}{\\sqrt{\\frac{p_0 (1 - p_0)}{n}}}\n",
        "where:\n",
        "p^\\hat{p}\\hat{p}\n",
        ": sample proportion\n",
        "\n",
        "p0p_0p_0\n",
        ": hypothesized population proportion (from H₀)\n",
        "\n",
        "p0(1−p0)n\\sqrt{\\frac{p_0 (1 - p_0)}{n}}\\sqrt{\\frac{p_0 (1 - p_0)}{n}}\n",
        ": standard error for proportions\n",
        "\n",
        "Steps:\n",
        "Identify H₀ and the relevant statistic (mean or proportion).\n",
        "\n",
        "Plug in the sample data and hypothesized values.\n",
        "\n",
        "Compute the Z-score using the appropriate formula.\n",
        "\n",
        "In hypothesis testing, the Z-score represents:\n",
        "Standardized Distance: How far the sample statistic (e.g., xˉ\\bar{x}\\bar{x}\n",
        " or p^\\hat{p}\\hat{p}\n",
        ") deviates from the null hypothesis value in terms of standard errors. A larger absolute Z-score indicates the sample result is farther from H₀.\n",
        "\n",
        "Evidence Against H₀: The Z-score is used to calculate the p-value or compared to critical values from the standard normal distribution:\n",
        "A large Z-score (e.g., |Z| > 1.96 for α = 0.05, two-tailed) suggests the sample data is unlikely under H₀, supporting rejection of the null.\n",
        "\n",
        "A small Z-score (close to 0) suggests the data is consistent with H₀, so you fail to reject it.\n",
        "\n",
        "Location in Normal Distribution: Since the Z-score follows a standard normal distribution (mean = 0, standard deviation = 1), it pinpoints where the sample statistic falls relative to the expected value under H₀.\n",
        "\n",
        "Interpretation:\n",
        "P-value: The Z-score is converted to a p-value using standard normal tables or software. If p ≤ α (e.g., 0.05), reject H₀.\n",
        "\n",
        "Critical Region: For a two-tailed test at α = 0.05, if |Z| > 1.96, reject H₀. For a one-tailed test, the critical value shifts (e.g., Z > 1.645 for upper tail).\n",
        "\n",
        "Context: The Z-score doesn’t indicate the size or practical importance of the difference, only its statistical significance.\n",
        "\n"
      ],
      "metadata": {
        "id": "nyOkkhdOLK5B"
      }
    },
    {
      "cell_type": "markdown",
      "source": [
        "#10- What is the T-distribution, and when should it be used instead of the normal distribution?\n",
        "- What is the T-distribution?\n",
        "The T-distribution (or Student's t-distribution) is a probability distribution used in statistical inference, similar to the normal distribution but with heavier tails. It accounts for the added uncertainty in estimating population parameters from small samples. Key characteristics:\n",
        "Shape: Symmetric and bell-shaped, like the normal distribution, but with thicker tails, meaning extreme values are more likely.\n",
        "\n",
        "Degrees of Freedom (df): The shape depends on degrees of freedom, which are tied to sample size (e.g., df = n - 1 for a one-sample t-test). As df increases, the t-distribution approaches the standard normal distribution (Z-distribution).\n",
        "\n",
        "Use: Primarily used to model the distribution of sample statistics (e.g., sample mean) when the population standard deviation is unknown and estimated from the sample.\n",
        "\n",
        "When to Use the T-distribution Instead of the Normal Distribution\n",
        "The T-distribution is used in hypothesis testing or confidence intervals instead of the normal distribution under these conditions:\n",
        "Unknown Population Variance:\n",
        "If the population standard deviation (σ\\sigma\\sigma\n",
        ") is unknown and must be estimated using the sample standard deviation (s), the T-distribution is appropriate.\n",
        "\n",
        "The normal distribution (Z-test) assumes σ\\sigma\\sigma\n",
        " is known, which is rare in practice.\n",
        "\n",
        "Small Sample Sizes (typically n<30n < 30n < 30\n",
        "):\n",
        "When the sample size is small, the sample standard deviation (s) is less reliable, introducing more variability. The T-distribution’s heavier tails account for this uncertainty.\n",
        "\n",
        "For large samples (n≥30n \\geq 30n \\geq 30\n",
        "), the T-distribution closely approximates the normal distribution due to the Central Limit Theorem, so a Z-test may be used even with unknown σ\\sigma\\sigma\n",
        " (though t-tests are still valid).\n",
        "\n",
        "Specific Tests:\n",
        "One-sample t-test: To test if a sample mean differs from a hypothesized population mean (e.g., is the average test score different from 75?).\n",
        "\n",
        "Two-sample t-test: To compare means of two independent groups (e.g., do males and females differ in average height?).\n",
        "\n",
        "Paired t-test: To compare means of paired observations (e.g., pre- and post-treatment scores for the same subjects).\n",
        "\n",
        "Confidence Intervals: For estimating a population mean when σ\\sigma\\sigma\n",
        " is unknown.\n",
        "\n",
        "Normality Assumption:\n",
        "The T-distribution assumes the underlying data is approximately normally distributed (or the sample mean is, via the Central Limit Theorem for larger samples).\n",
        "\n",
        "For very small samples (n<15n < 15n < 15\n",
        "), normality is critical. If data is heavily skewed, non-parametric tests may be better.\n",
        "\n"
      ],
      "metadata": {
        "id": "4k67UjVSLqZO"
      }
    },
    {
      "cell_type": "markdown",
      "source": [
        "#11- What is the difference between a Z-test and a T-test?\n",
        "-The Z-test and T-test are both statistical hypothesis tests used to compare sample statistics (e.g., means or proportions) to hypothesized population parameters or between groups, but they differ in their assumptions and use cases. Here’s a concise breakdown:\n",
        "Key Differences:\n",
        "Population Variance:\n",
        "Z-test: Assumes the population standard deviation (σ\\sigma\\sigma\n",
        ") is known.\n",
        "\n",
        "T-test: Used when σ\\sigma\\sigma\n",
        " is unknown and estimated using the sample standard deviation (s).\n",
        "\n",
        "Sample Size:\n",
        "Z-test: Typically used for large samples (n≥30n \\geq 30n \\geq 30\n",
        "), where the Central Limit Theorem ensures the sampling distribution is approximately normal.\n",
        "\n",
        "T-test: Preferred for small samples (n<30n < 30n < 30\n",
        "), where the sample standard deviation introduces more uncertainty.\n",
        "\n",
        "Distribution:\n",
        "Z-test: Uses the standard normal distribution (Z-distribution) to calculate probabilities and critical values.\n",
        "\n",
        "T-test: Uses the T-distribution, which has heavier tails to account for variability in estimating σ\\sigma\\sigma\n",
        ". The T-distribution depends on degrees of freedom (df, e.g., n−1n - 1n - 1\n",
        " for a one-sample t-test).\n",
        "\n",
        "Applications:\n",
        "Z-test:\n",
        "Tests for means when σ\\sigma\\sigma\n",
        " is known (e.g., is a factory’s output different from 500 units?).\n",
        "\n",
        "Tests for proportions (e.g., does 55% of a sample support a policy vs. 50% claimed?).\n",
        "\n",
        "One-sample or two-sample comparisons with large samples.\n",
        "\n",
        "T-test:\n",
        "Tests for means when σ\\sigma\\sigma\n",
        " is unknown (e.g., does a sample’s average score differ from 80?).\n",
        "\n",
        "Types: One-sample, two-sample (independent groups), or paired t-tests (e.g., pre- vs. post-treatment).\n",
        "\n",
        "Common for small samples or when estimating variance.\n",
        "\n"
      ],
      "metadata": {
        "id": "HNknIAelMKMF"
      }
    },
    {
      "cell_type": "markdown",
      "source": [
        "#12- What is the T-test, and how is it used in hypothesis testing?\n",
        "- What is a T-test?\n",
        "A T-test is a statistical hypothesis test used to determine whether there is a significant difference between the means of two groups or between a sample mean and a hypothesized population mean. It is based on the T-distribution, which accounts for the uncertainty introduced when the population standard deviation (σ\\sigma\\sigma\n",
        ") is unknown and estimated from the sample (s). The T-test is particularly useful for small samples or when σ\\sigma\\sigma\n",
        " is not known, unlike the Z-test, which assumes known σ\\sigma\\sigma\n",
        ".\n",
        "There are three main types of T-tests:\n",
        "One-sample T-test: Tests if a sample mean differs from a hypothesized population mean.\n",
        "\n",
        "Independent Two-sample T-test: Compares the means of two independent groups.\n",
        "\n",
        "Paired T-test: Compares means of the same group under two conditions (e.g., before vs. after).\n",
        "\n",
        "The T-test follows the standard hypothesis testing framework to assess whether observed differences are statistically significant. Here’s how it works:\n",
        "1. Formulate Hypotheses:\n",
        "Null Hypothesis (H₀): Assumes no difference or effect (e.g., H₀: μ = μ₀ for one-sample, or H₀: μ₁ = μ₂ for two-sample).\n",
        "\n",
        "Alternative Hypothesis (H₁): Specifies a difference (e.g., H₁: μ ≠ μ₀, μ > μ₀, or μ < μ₀ for one-tailed; H₁: μ₁ ≠ μ₂ for two-sample).\n",
        "\n",
        "Tests can be one-tailed (directional, e.g., H₁: μ > μ₀) or two-tailed (non-directional, e.g., H₁: μ ≠ μ₀).\n",
        "\n",
        "2. Calculate the T-statistic:\n",
        "The T-statistic measures how far the sample mean(s) deviate from the null hypothesis in terms of standard errors. Formulas vary by test type:\n",
        "One-sample T-test:\n",
        "t=xˉ−μ0s/nt = \\frac{\\bar{x} - \\mu_0}{s / \\sqrt{n}}t = \\frac{\\bar{x} - \\mu_0}{s / \\sqrt{n}}\n",
        "where:\n",
        "xˉ\\bar{x}\\bar{x}\n",
        ": sample mean\n",
        "\n",
        "μ0\\mu_0\\mu_0\n",
        ": hypothesized population mean\n",
        "\n",
        "(s): sample standard deviation\n",
        "\n",
        "(n): sample size\n",
        "\n",
        "Degrees of freedom (df) = n−1n - 1n - 1\n",
        ".\n",
        "\n",
        "Independent Two-sample T-test (assuming equal variances):\n",
        "t=xˉ1−xˉ2sp2(1n1+1n2)t = \\frac{\\bar{x}_1 - \\bar{x}_2}{\\sqrt{s_p^2 \\left(\\frac{1}{n_1} + \\frac{1}{n_2}\\right)}}t = \\frac{\\bar{x}_1 - \\bar{x}_2}{\\sqrt{s_p^2 \\left(\\frac{1}{n_1} + \\frac{1}{n_2}\\right)}}\n",
        "where:\n",
        "xˉ1,xˉ2\\bar{x}_1, \\bar{x}_2\\bar{x}_1, \\bar{x}_2\n",
        ": means of the two groups\n",
        "\n",
        "sp2s_p^2s_p^2\n",
        ": pooled variance, calculated as:\n",
        "sp2=(n1−1)s12+(n2−1)s22n1+n2−2s_p^2 = \\frac{(n_1 - 1)s_1^2 + (n_2 - 1)s_2^2}{n_1 + n_2 - 2}s_p^2 = \\frac{(n_1 - 1)s_1^2 + (n_2 - 1)s_2^2}{n_1 + n_2 - 2}\n",
        "\n",
        "n1,n2n_1, n_2n_1, n_2\n",
        ": sample sizes\n",
        "\n",
        "df = n1+n2−2n_1 + n_2 - 2n_1 + n_2 - 2\n",
        ".\n",
        "\n",
        "If variances are unequal, use Welch’s T-test, which adjusts the formula and df.\n",
        "\n",
        "Paired T-test:\n",
        "Compute differences (did_id_i\n",
        ") between paired observations (e.g., before and after).\n",
        "\n",
        "t=dˉsd/nt = \\frac{\\bar{d}}{s_d / \\sqrt{n}}t = \\frac{\\bar{d}}{s_d / \\sqrt{n}}\n",
        "where:\n",
        "dˉ\\bar{d}\\bar{d}\n",
        ": mean of the differences\n",
        "\n",
        "sds_ds_d\n",
        ": standard deviation of the differences\n",
        "\n",
        "(n): number of pairs\n",
        "\n",
        "df = n−1n - 1n - 1\n",
        ".\n",
        "\n",
        "3. Determine the P-value or Critical Value:\n",
        "P-value: The T-statistic is compared to the T-distribution (based on df) to find the probability of observing the data (or more extreme) under H₀. Software or T-tables provide the p-value.\n",
        "\n",
        "Critical Value: For a given significance level (α, e.g., 0.05) and df, the T-distribution gives critical t-values. For two-tailed tests, compare |t| to the critical value; for one-tailed, use the appropriate tail.\n",
        "\n",
        "4. Make a Decision:\n",
        "If p-value ≤ α or |t| ≥ critical value, reject H₀, concluding there’s evidence for H₁ (e.g., a significant difference).\n",
        "\n",
        "If p-value > α or |t| < critical value, fail to reject H₀, indicating insufficient evidence for H₁.\n",
        "\n",
        "5. Interpret Results:\n",
        "Report the t-statistic, df, p-value, and conclusion in context (e.g., “The sample mean of 78 differs significantly from 75, t(9) = 2.4, p = 0.03”).\n",
        "\n",
        "Consider practical significance alongside statistical significance.\n",
        "\n",
        "The T-test follows the standard hypothesis testing framework to assess whether observed differences are statistically significant. Here’s how it works:\n",
        "1. Formulate Hypotheses:\n",
        "Null Hypothesis (H₀): Assumes no difference or effect (e.g., H₀: μ = μ₀ for one-sample, or H₀: μ₁ = μ₂ for two-sample).\n",
        "\n",
        "Alternative Hypothesis (H₁): Specifies a difference (e.g., H₁: μ ≠ μ₀, μ > μ₀, or μ < μ₀ for one-tailed; H₁: μ₁ ≠ μ₂ for two-sample).\n",
        "\n",
        "Tests can be one-tailed (directional, e.g., H₁: μ > μ₀) or two-tailed (non-directional, e.g., H₁: μ ≠ μ₀).\n",
        "\n",
        "2. Calculate the T-statistic:\n",
        "The T-statistic measures how far the sample mean(s) deviate from the null hypothesis in terms of standard errors. Formulas vary by test type:\n",
        "One-sample T-test:\n",
        "t=xˉ−μ0s/nt = \\frac{\\bar{x} - \\mu_0}{s / \\sqrt{n}}t = \\frac{\\bar{x} - \\mu_0}{s / \\sqrt{n}}\n",
        "where:\n",
        "xˉ\\bar{x}\\bar{x}\n",
        ": sample mean\n",
        "\n",
        "μ0\\mu_0\\mu_0\n",
        ": hypothesized population mean\n",
        "\n",
        "(s): sample standard deviation\n",
        "\n",
        "(n): sample size\n",
        "\n",
        "Degrees of freedom (df) = n−1n - 1n - 1\n",
        ".\n",
        "\n",
        "Independent Two-sample T-test (assuming equal variances):\n",
        "t=xˉ1−xˉ2sp2(1n1+1n2)t = \\frac{\\bar{x}_1 - \\bar{x}_2}{\\sqrt{s_p^2 \\left(\\frac{1}{n_1} + \\frac{1}{n_2}\\right)}}t = \\frac{\\bar{x}_1 - \\bar{x}_2}{\\sqrt{s_p^2 \\left(\\frac{1}{n_1} + \\frac{1}{n_2}\\right)}}\n",
        "where:\n",
        "xˉ1,xˉ2\\bar{x}_1, \\bar{x}_2\\bar{x}_1, \\bar{x}_2\n",
        ": means of the two groups\n",
        "\n",
        "sp2s_p^2s_p^2\n",
        ": pooled variance, calculated as:\n",
        "sp2=(n1−1)s12+(n2−1)s22n1+n2−2s_p^2 = \\frac{(n_1 - 1)s_1^2 + (n_2 - 1)s_2^2}{n_1 + n_2 - 2}s_p^2 = \\frac{(n_1 - 1)s_1^2 + (n_2 - 1)s_2^2}{n_1 + n_2 - 2}\n",
        "\n",
        "n1,n2n_1, n_2n_1, n_2\n",
        ": sample sizes\n",
        "\n",
        "df = n1+n2−2n_1 + n_2 - 2n_1 + n_2 - 2\n",
        ".\n",
        "\n",
        "If variances are unequal, use Welch’s T-test, which adjusts the formula and df.\n",
        "\n",
        "Paired T-test:\n",
        "Compute differences (did_id_i\n",
        ") between paired observations (e.g., before and after).\n",
        "\n",
        "t=dˉsd/nt = \\frac{\\bar{d}}{s_d / \\sqrt{n}}t = \\frac{\\bar{d}}{s_d / \\sqrt{n}}\n",
        "where:\n",
        "dˉ\\bar{d}\\bar{d}\n",
        ": mean of the differences\n",
        "\n",
        "sds_ds_d\n",
        ": standard deviation of the differences\n",
        "\n",
        "(n): number of pairs\n",
        "\n",
        "df = n−1n - 1n - 1\n",
        ".\n",
        "\n",
        "3. Determine the P-value or Critical Value:\n",
        "P-value: The T-statistic is compared to the T-distribution (based on df) to find the probability of observing the data (or more extreme) under H₀. Software or T-tables provide the p-value.\n",
        "\n",
        "Critical Value: For a given significance level (α, e.g., 0.05) and df, the T-distribution gives critical t-values. For two-tailed tests, compare |t| to the critical value; for one-tailed, use the appropriate tail.\n",
        "\n",
        "4. Make a Decision:\n",
        "If p-value ≤ α or |t| ≥ critical value, reject H₀, concluding there’s evidence for H₁ (e.g., a significant difference).\n",
        "\n",
        "If p-value > α or |t| < critical value, fail to reject H₀, indicating insufficient evidence for H₁.\n",
        "\n",
        "5. Interpret Results:\n",
        "Report the t-statistic, df, p-value, and conclusion in context (e.g., “The sample mean of 78 differs significantly from 75, t(9) = 2.4, p = 0.03”).\n",
        "\n",
        "Consider practical significance alongside statistical significance.\n",
        "\n"
      ],
      "metadata": {
        "id": "nJaj1A05Mj0-"
      }
    },
    {
      "cell_type": "markdown",
      "source": [
        "#14- What is the relationship between Z-test and T-test in hypothesis testing?\n",
        "- The Z-test and T-test are closely related hypothesis testing methods used to compare sample statistics (e.g., means or proportions) to population parameters or between groups, but they differ in assumptions and applications. Their relationship lies in their shared purpose, mathematical structure, and convergence under certain conditions. Below is a concise explanation of their relationship:\n",
        "1. Shared Purpose:\n",
        "Both tests assess whether observed data provides evidence to reject a null hypothesis (H₀) about a population parameter (e.g., mean or proportion).\n",
        "\n",
        "They calculate a test statistic (Z or t) to measure how far the sample statistic deviates from H₀, then use this to compute a p-value or compare to critical values.\n",
        "\n",
        "2. Similar Mathematical Structure:\n",
        "Both tests standardize the difference between the sample statistic and the hypothesized value, dividing by the standard error:\n",
        "Z-test (mean):\n",
        "Z=xˉ−μ0σ/nZ = \\frac{\\bar{x} - \\mu_0}{\\sigma / \\sqrt{n}}Z = \\frac{\\bar{x} - \\mu_0}{\\sigma / \\sqrt{n}}\n",
        "where σ\\sigma\\sigma\n",
        " is the known population standard deviation.\n",
        "\n",
        "T-test (mean):\n",
        "t=xˉ−μ0s/nt = \\frac{\\bar{x} - \\mu_0}{s / \\sqrt{n}}t = \\frac{\\bar{x} - \\mu_0}{s / \\sqrt{n}}\n",
        "where (s) is the sample standard deviation (estimating σ\\sigma\\sigma\n",
        ").\n",
        "\n",
        "The key difference is that the Z-test uses the known σ\\sigma\\sigma\n",
        ", while the T-test uses the estimated (s), introducing extra uncertainty.\n",
        "Distributional Relationship:\n",
        "Z-test: Assumes the test statistic follows a standard normal distribution (Z-distribution, mean = 0, standard deviation = 1), which is appropriate when σ\\sigma\\sigma\n",
        " is known or the sample is large.\n",
        "\n",
        "T-test: Uses the T-distribution, which has heavier tails to account for the variability of estimating σ\\sigma\\sigma\n",
        " with (s). The T-distribution depends on degrees of freedom (df, e.g., n−1n - 1n - 1\n",
        " for one-sample).\n",
        "\n",
        "Convergence: As the sample size ((n)) increases (and df grows), the T-distribution approaches the standard normal distribution. For large samples (n≥30n \\geq 30n \\geq 30\n",
        "), the Z- and T-distributions are nearly identical, making Z- and T-test results very similar, even when σ\\sigma\\sigma\n",
        " is unknown.\n",
        "\n",
        "4. Conditions Driving Their Use:\n",
        "The choice between Z-test and T-test hinges on population variance and sample size:\n",
        "Z-test: Used when σ\\sigma\\sigma\n",
        " is known and/or n≥30n \\geq 30n \\geq 30\n",
        ", where the Central Limit Theorem ensures normality of the sampling distribution.\n",
        "\n",
        "T-test: Used when σ\\sigma\\sigma\n",
        " is unknown and typically for smaller samples (n<30n < 30n < 30\n",
        "), where the T-distribution better models the added uncertainty.\n",
        "\n",
        "Relationship in Practice: If σ\\sigma\\sigma\n",
        " is unknown but (n) is large, a T-test approximates a Z-test because (s) becomes a reliable estimate of σ\\sigma\\sigma\n",
        ", and the T-distribution mimics the normal distribution. Thus, the T-test is a more general tool, applicable even in large-sample cases, while the Z-test is specific to known-variance scenarios.\n",
        "\n",
        "5. Interchangeability in Large Samples:\n",
        "For large samples (n≥30n \\geq 30n \\geq 30\n",
        "), the difference between Z- and T-test results is minimal, even if σ\\sigma\\sigma\n",
        " is unknown, because:\n",
        "The sample standard deviation ((s)) closely approximates σ\\sigma\\sigma\n",
        ".\n",
        "\n",
        "The T-distribution with high df is nearly indistinguishable from the Z-distribution (e.g., at df = 30, critical values are very close to ±1.96 for α = 0.05, two-tailed).\n",
        "\n",
        "Example: Testing if a sample mean (xˉ=105\\bar{x} = 105\\bar{x} = 105\n",
        ", n=50n = 50n = 50\n",
        ") differs from μ0=100\\mu_0 = 100\\mu_0 = 100\n",
        ". If σ=15\\sigma = 15\\sigma = 15\n",
        ", a Z-test gives Z≈2.24Z \\approx 2.24Z \\approx 2.24\n",
        ". If σ\\sigma\\sigma\n",
        " is unknown but s=15s = 15s = 15\n",
        ", a T-test gives t≈2.24t \\approx 2.24t \\approx 2.24\n",
        ", with nearly identical p-values due to large (n).\n",
        "\n",
        "6. Complementary Roles:\n",
        "Z-test: Common in theoretical settings, large-scale studies, or proportion tests where σ\\sigma\\sigma\n",
        " is known or derivable (e.g., binomial variance for proportions).\n",
        "\n",
        "T-test: More practical for real-world research, where σ\\sigma\\sigma\n",
        " is rarely known, and samples are often small (e.g., clinical trials, experiments).\n",
        "\n",
        "The T-test can be seen as an extension of the Z-test, adjusting for the uncertainty of estimating variance, making it more versatile.\n",
        "\n",
        "Example Illustrating the Relationship:\n",
        "Suppose you’re testing H₀: μ = 50 vs. H₁: μ ≠ 50:\n",
        "Small sample (n=10n = 10n = 10\n",
        ", xˉ=55\\bar{x} = 55\\bar{x} = 55\n",
        ", s=8s = 8s = 8\n",
        "): Use a T-test because σ\\sigma\\sigma\n",
        " is unknown and (n) is small. Compute t=55−508/10≈1.98t = \\frac{55 - 50}{8 / \\sqrt{10}} \\approx 1.98t = \\frac{55 - 50}{8 / \\sqrt{10}} \\approx 1.98\n",
        ", df = 9, and check the T-distribution (p-value ≈ 0.08, fail to reject at α = 0.05).\n",
        "\n",
        "Large sample (n=100n = 100n = 100\n",
        ", xˉ=55\\bar{x} = 55\\bar{x} = 55\n",
        ", s=8s = 8s = 8\n",
        "): A T-test gives t=55−508/100≈6.25t = \\frac{55 - 50}{8 / \\sqrt{100}} \\approx 6.25t = \\frac{55 - 50}{8 / \\sqrt{100}} \\approx 6.25\n",
        ", but since (n) is large, the T-distribution (df = 99) is nearly normal, and a Z-test (if σ=8\\sigma = 8\\sigma = 8\n",
        ") would give a similar result (Z ≈ 6.25, p < 0.001, reject H₀).\n",
        "\n",
        "If σ=8\\sigma = 8\\sigma = 8\n",
        " were known, the Z-test would be preferred for simplicity, but the T-test is still valid.\n",
        "\n",
        "\n",
        "\n"
      ],
      "metadata": {
        "id": "7A-dbzDQNSTr"
      }
    },
    {
      "cell_type": "markdown",
      "source": [
        "#14- What is a confidence interval, and how is it used to interpret statistical results?\n",
        "- A confidence interval (CI) is a statistical tool used to estimate a range of values within which a population parameter (e.g., mean, proportion) is likely to lie, based on sample data. It is expressed with a confidence level (typically 95%), which indicates the probability that the interval contains the true parameter value if the sampling process were repeated many times.\n",
        "Format: A CI is usually reported as: [lower bound, upper bound], e.g., \"The mean height is 170 cm, 95% CI [165, 175].\"\n",
        "\n",
        "Components:\n",
        "Point Estimate: The sample statistic (e.g., sample mean xˉ\\bar{x}\\bar{x}\n",
        " or proportion p^\\hat{p}\\hat{p}\n",
        ").\n",
        "\n",
        "Margin of Error: Half the width of the interval, reflecting variability and sample size, calculated as a critical value (from Z- or T-distribution) times the standard error.\n",
        "\n",
        "Confidence Level: Common levels are 90%, 95%, or 99%. A 95% CI means 95% of such intervals from repeated samples would contain the true parameter.\n",
        "\n",
        "Formula (for a mean, 95% CI):\n",
        "[\n",
        "CI = \\bar{x} \\pm z \\cdot \\frac{- Z-test: Assumes the population standard deviation (σ\\sigma\\sigma\n",
        ") is known.\n",
        "T-test: Used when σ\\sigma\\sigma\n",
        " is unknown and estimated using the sample standard deviation (s). / \\sqrt{n}\n",
        "]\n",
        "where:\n",
        "\n",
        "xˉ\\bar{x}\\bar{x}\n",
        ": sample mean\n",
        "\n",
        "(z): critical value from the standard normal distribution (e.g., 1.96 for 95% CI)\n",
        "\n",
        "σ\\sigma\\sigma\n",
        ": population standard deviation\n",
        "\n",
        "(n): sample size\n",
        "\n",
        "For small samples or unknown σ\\sigma\\sigma\n",
        ", use the T-distribution critical value (t) instead of (z).\n",
        "\n",
        "Example: A sample of 25 people has a mean height of 170 cm (xˉ=170\\bar{x} = 170\\bar{x} = 170\n",
        ") and σ=10\\sigma = 10\\sigma = 10\n",
        ". For a 95% CI:\n",
        "CI=170±1.96⋅1025=170±1.96⋅2=[166.08,173.92]CI = 170 \\pm 1.96 \\cdot \\frac{10}{\\sqrt{25}} = 170 \\pm 1.96 \\cdot 2 = [166.08, 173.92]CI = 170 \\pm 1.96 \\cdot \\frac{10}{\\sqrt{25}} = 170 \\pm 1.96 \\cdot 2 = [166.08, 173.92]\n",
        "\n",
        "The 95% CI is [166.08, 173.92] cm.\n",
        "\n",
        "Estimating the True Parameter:\n",
        "A CI gives a plausible range for the unknown population parameter. For example, a 95% CI of [165, 175] for a mean suggests the true population mean is likely between 165 and 175, based on the sample.\n",
        "\n",
        "Wider CIs indicate more uncertainty (e.g., due to small samples or high variability); narrower CIs suggest greater precision.\n",
        "\n",
        "Assessing Statistical Significance:\n",
        "In hypothesis testing, a CI can indicate whether a null hypothesis value is plausible:\n",
        "For a difference (e.g., mean difference between groups), if the CI excludes 0, the result is statistically significant at the corresponding level (e.g., 95% CI excluding 0 aligns with p < 0.05).\n",
        "\n",
        "For a proportion, if the CI excludes the null value (e.g., 50%), the result is significant.\n",
        "\n",
        "Example: A CI for the difference in means between two groups is [2, 8]. Since it doesn’t include 0, the difference is significant at the 95% level.\n",
        "\n",
        "This complements p-values by showing the range of effect sizes consistent with the data.\n",
        "\n",
        "Evaluating Practical Significance:\n",
        "CIs help assess whether results are meaningful, not just statistically significant. A narrow CI around a small effect (e.g., [0.1, 0.3]) might suggest a trivial difference, even if significant.\n",
        "\n",
        "Example: A drug increases recovery time by 1 day, 95% CI [0.5, 1.5]. The CI confirms the effect is small but consistent, aiding decisions about clinical relevance.\n",
        "\n",
        "Comparing Groups:\n",
        "For two-sample comparisons (e.g., treatment vs. control), CIs for each group’s parameter or their difference can clarify overlap and effect size.\n",
        "\n",
        "Example: Treatment group mean = 80, CI [78, 82]; control group mean = 75, CI [72, 78]. Non-overlapping CIs suggest a likely difference, though formal testing (e.g., T-test) is needed for confirmation.\n",
        "\n",
        "Communicating Uncertainty:\n",
        "CIs convey the reliability of estimates in a way point estimates alone cannot. A 95% CI tells stakeholders that the true value could reasonably vary within the interval, aiding decision-making.\n",
        "\n",
        "Example: A poll estimates 60% support for a policy, 95% CI [55%, 65%]. This indicates the true support is likely close to 60% but could be as low as 55% or as high as 65%.\n",
        "\n",
        "Visualizing Results:\n",
        "In research, CIs are often plotted (e.g., error bars in graphs) to show the range of uncertainty and compare estimates across groups or studies.\n",
        "\n",
        "Meta-analyses use CIs to combine results, assessing consistency across studies.\n",
        "\n"
      ],
      "metadata": {
        "id": "5ymbOnUWN58c"
      }
    },
    {
      "cell_type": "markdown",
      "source": [
        "#15-What is the margin of error, and how does it affect the confidence interval?\n",
        "-What is the Margin of Error?\n",
        "The margin of error (MOE) is a measure of the uncertainty in a sample-based estimate, representing the maximum expected difference between the sample statistic (e.g., mean, proportion) and the true population parameter. It forms the \"plus or minus\" part of a confidence interval (CI), defining how wide the interval is around the point estimate.\n",
        "Definition: The MOE is half the width of the CI, calculated as the product of a critical value (from a Z- or T-distribution) and the standard error (a measure of sampling variability).\n",
        "\n",
        "Formula (for a mean, 95% CI):\n",
        "MOE=z⋅σn\\text{MOE} = z \\cdot \\frac{\\sigma}{\\sqrt{n}}\\text{MOE} = z \\cdot \\frac{\\sigma}{\\sqrt{n}}\n",
        "where:\n",
        "(z): critical value from the standard normal distribution (e.g., 1.96 for 95% CI)\n",
        "\n",
        "σ\\sigma\\sigma\n",
        ": population standard deviation (or sample standard deviation (s) for T-distribution)\n",
        "\n",
        "(n): sample size\n",
        "\n",
        "For small samples or unknown σ\\sigma\\sigma\n",
        ", replace (z) with the T-distribution critical value ((t)).\n",
        "\n",
        "Formula (for a proportion):\n",
        "MOE=z⋅p^(1−p^)n\\text{MOE} = z \\cdot \\sqrt{\\frac{\\hat{p}(1 - \\hat{p})}{n}}\\text{MOE} = z \\cdot \\sqrt{\\frac{\\hat{p}(1 - \\hat{p})}{n}}\n",
        "where p^\\hat{p}\\hat{p}\n",
        ": sample proportion.\n",
        "\n",
        "Example: A poll finds 60% support for a policy (p^=0.6\\hat{p} = 0.6\\hat{p} = 0.6\n",
        "), n=400n = 400n = 400\n",
        ", 95% CI. The MOE is:\n",
        "\\text{MOE} = 1.96 \\cdot \\sqrt{\\frac{0.6 \\cdot 0.4}{400}} = 1.96 \\cdot 0.0245 \\approx 0.048 \\text{ (or 4.8%)}\n",
        "The CI is 0.6±0.048=[0.552,0.648]0.6 \\pm 0.048 = [0.552, 0.648]0.6 \\pm 0.048 = [0.552, 0.648]\n",
        " or 55.2% to 64.8%.\n",
        " The MOE directly determines the width and precision of the confidence interval, influencing how we interpret the estimate of the population parameter. Here’s how:\n",
        "Width of the CI:\n",
        "The CI is constructed as:\n",
        "CI=Point Estimate±MOE\\text{CI} = \\text{Point Estimate} \\pm \\text{MOE}\\text{CI} = \\text{Point Estimate} \\pm \\text{MOE}\n",
        "For a mean: xˉ±MOE\\bar{x} \\pm \\text{MOE}\\bar{x} \\pm \\text{MOE}\n",
        "; for a proportion: p^±MOE\\hat{p} \\pm \\text{MOE}\\hat{p} \\pm \\text{MOE}\n",
        ".\n",
        "\n",
        "A larger MOE results in a wider CI, indicating greater uncertainty about the true parameter value.\n",
        "\n",
        "A smaller MOE produces a narrower CI, suggesting higher precision.\n",
        "\n",
        "Factors Affecting MOE:\n",
        "Sample Size ((n)): MOE is inversely proportional to n\\sqrt{n}\\sqrt{n}\n",
        ". Larger samples reduce the standard error, shrinking the MOE and narrowing the CI.\n",
        "Example: Doubling (n) reduces MOE by a factor of 2≈1.414\\sqrt{2} \\approx 1.414\\sqrt{2} \\approx 1.414\n",
        ".\n",
        "\n",
        "Variability (σ\\sigma\\sigma\n",
        " or (s)): Higher variability increases the standard error, enlarging the MOE and widening the CI.\n",
        "Example: If σ=20\\sigma = 20\\sigma = 20\n",
        " vs. σ=10\\sigma = 10\\sigma = 10\n",
        ", the MOE doubles, assuming (n) and confidence level remain constant.\n",
        "\n",
        "Confidence Level: Higher confidence levels (e.g., 99% vs. 95%) require larger critical values (e.g., z=2.576z = 2.576z = 2.576\n",
        " vs. 1.96), increasing the MOE and widening the CI.\n",
        "Example: A 99% CI has a larger MOE than a 95% CI, making it wider but more likely to contain the true parameter.\n",
        "\n",
        "Precision and Interpretation:\n",
        "A small MOE (narrow CI) indicates a precise estimate, meaning the sample statistic is likely close to the true parameter. For example, a mean of 100 with a 95% CI [99, 101] (MOE = 1) suggests high confidence in a value near 100.\n",
        "\n",
        "A large MOE (wide CI) reflects uncertainty, often due to small samples or high variability. For example, a mean of 100 with a 95% CI [90, 110] (MOE = 10) suggests the true mean could vary widely, reducing confidence in pinpointing the exact value.\n",
        "\n",
        "In hypothesis testing, a wider CI (larger...\n",
        "\n",
        "\n",
        "\n"
      ],
      "metadata": {
        "id": "oEQxHKD4P-nK"
      }
    },
    {
      "cell_type": "markdown",
      "source": [
        "#16-How is Bayes' Theorem used in statistics, and what is its significance?\n",
        "-Bayes' Theorem is a fundamental principle in probability and statistics that describes how to update the probability of a hypothesis based on new evidence. It provides a mathematical framework for combining prior knowledge with observed data to compute posterior probabilities.\n",
        "The theorem is expressed as:\n",
        "P(A∣B)=P(B∣A)⋅P(A)P(B)P(A|B) = \\frac{P(B|A) \\cdot P(A)}{P(B)}P(A|B) = \\frac{P(B|A) \\cdot P(A)}{P(B)}\n",
        "\n",
        "where:\n",
        "(P(A|B)): Posterior probability—the probability of event (A) (hypothesis) given evidence (B).\n",
        "\n",
        "(P(B|A)): Likelihood—the probability of observing evidence (B) given that (A) is true.\n",
        "\n",
        "(P(A)): Prior probability—the initial probability of (A) before observing (B).\n",
        "\n",
        "(P(B)): Evidence—the total probability of observing (B), often computed as:\n",
        "P(B)=P(B∣A)⋅P(A)+P(B∣¬A)⋅P(¬A)P(B) = P(B|A) \\cdot P(A) + P(B|\\neg A) \\cdot P(\\neg A)P(B) = P(B|A) \\cdot P(A) + P(B|\\neg A) \\cdot P(\\neg A)\n",
        "where ¬A\\neg A\\neg A\n",
        " is the complement of (A).\n",
        "Bayes' Theorem is central to Bayesian statistics, which contrasts with frequentist statistics (e.g., Z-tests, T-tests). It is used in various ways to update beliefs, make inferences, and model uncertainty. Key applications include:\n",
        "Updating Probabilities with New Data:\n",
        "Bayes' Theorem allows statisticians to revise the probability of a hypothesis as new evidence is observed.\n",
        "\n",
        "Example: In medical diagnostics, suppose a test for a disease has a 99% accuracy rate (P(Positive∣Disease)=0.99P(\\text{Positive}|\\text{Disease}) = 0.99P(\\text{Positive}|\\text{Disease}) = 0.99\n",
        "), the disease prevalence is 1% (P(Disease)=0.01P(\\text{Disease}) = 0.01P(\\text{Disease}) = 0.01\n",
        "), and the false positive rate is 5% (P(Positive∣No Disease)=0.05P(\\text{Positive}|\\text{No Disease}) = 0.05P(\\text{Positive}|\\text{No Disease}) = 0.05\n",
        "). If a patient tests positive, Bayes' Theorem calculates the probability they have the disease:\n",
        "P(Disease∣Positive)=P(Positive∣Disease)⋅P(Disease)P(Positive)P(\\text{Disease}|\\text{Positive}) = \\frac{P(\\text{Positive}|\\text{Disease}) \\cdot P(\\text{Disease})}{P(\\text{Positive})}P(\\text{Disease}|\\text{Positive}) = \\frac{P(\\text{Positive}|\\text{Disease}) \\cdot P(\\text{Disease})}{P(\\text{Positive})}\n",
        "P(Positive)=P(Positive∣Disease)⋅P(Disease)+P(Positive∣No Disease)⋅P(No Disease)P(\\text{Positive}) = P(\\text{Positive}|\\text{Disease}) \\cdot P(\\text{Disease}) + P(\\text{Positive}|\\text{No Disease}) \\cdot P(\\text{No Disease})P(\\text{Positive}) = P(\\text{Positive}|\\text{Disease}) \\cdot P(\\text{Disease}) + P(\\text{Positive}|\\text{No Disease}) \\cdot P(\\text{No Disease})\n",
        "P(Positive)=(0.99⋅0.01)+(0.05⋅0.99)=0.0099+0.0495=0.0594P(\\text{Positive}) = (0.99 \\cdot 0.01) + (0.05 \\cdot 0.99) = 0.0099 + 0.0495 = 0.0594P(\\text{Positive}) = (0.99 \\cdot 0.01) + (0.05 \\cdot 0.99) = 0.0099 + 0.0495 = 0.0594\n",
        "P(\\text{Disease}|\\text{Positive}) = \\frac{0.99 \\cdot 0.01}{0.0594} \\approx 0.1667 \\text{ (16.67%)}\n",
        "The low posterior probability reflects the impact of low prevalence, despite high test accuracy.\n",
        "\n",
        "Bayesian Inference:\n",
        "In Bayesian statistics, parameters (e.g., means, proportions) are treated as random variables with probability distributions, not fixed values.\n",
        "\n",
        "Prior distribution (P(θ)P(\\theta)P(\\theta)\n",
        "): Represents initial beliefs about a parameter θ\\theta\\theta\n",
        " before seeing data.\n",
        "\n",
        "Likelihood (P(Data∣θ)P(\\text{Data}|\\theta)P(\\text{Data}|\\theta)\n",
        "): Describes how likely the observed data is for different values of θ\\theta\\theta\n",
        ".\n",
        "\n",
        "Posterior distribution (P(θ∣Data)P(\\theta|\\text{Data})P(\\theta|\\text{Data})\n",
        "): Combines the prior and likelihood to give updated beliefs about θ\\theta\\theta\n",
        ":\n",
        "P(θ∣Data)∝P(Data∣θ)⋅P(θ)P(\\theta|\\text{Data}) \\propto P(\\text{Data}|\\theta) \\cdot P(\\theta)P(\\theta|\\text{Data}) \\propto P(\\text{Data}|\\theta) \\cdot P(\\theta)\n",
        "\n",
        "Example: Estimating a population mean μ\\mu\\mu\n",
        ". A prior distribution (e.g., normal) is updated with sample data (likelihood) to produce a posterior distribution, which can be used to compute credible intervals (Bayesian equivalent of confidence intervals).\n",
        "\n",
        "Hypothesis Testing:\n",
        "Bayesian hypothesis testing compares models or hypotheses by calculating Bayes factors, which quantify the relative evidence for one hypothesis over another.\n",
        "\n",
        "Example: To test H₀: μ = 0 vs. H₁: μ ≠ 0, compute the ratio of posterior probabilities or marginal likelihoods:\n",
        "Bayes Factor=P(Data∣H1)P(Data∣H0)\\text{Bayes Factor} = \\frac{P(\\text{Data}|H_1)}{P(\\text{Data}|H_0)}\\text{Bayes Factor} = \\frac{P(\\text{Data}|H_1)}{P(\\text{Data}|H_0)}\n",
        "A large Bayes factor favors H₁; a small one supports H₀.\n",
        "\n",
        "Unlike frequentist p-values, Bayes factors incorporate prior beliefs and directly compare hypotheses.\n",
        "\n",
        "\n"
      ],
      "metadata": {
        "id": "F_KC85uFRS8L"
      }
    },
    {
      "cell_type": "markdown",
      "source": [
        "#17-What is the Chi-square distribution, and when is it used?\n",
        "- The Chi-Square distribution (χ2\\chi^2\\chi^2\n",
        ") is a continuous probability distribution used in statistical inference. It is derived from the sum of the squares of independent standard normal random variables and is always non-negative, skewed to the right, with a shape that depends on its degrees of freedom (df).\n",
        "Definition: If Z1,Z2,…,ZkZ_1, Z_2, \\ldots, Z_kZ_1, Z_2, \\ldots, Z_k\n",
        " are independent standard normal variables (mean = 0, standard deviation = 1), then:\n",
        "χ2=Z12+Z22+⋯+Zk2\\chi^2 = Z_1^2 + Z_2^2 + \\cdots + Z_k^2\\chi^2 = Z_1^2 + Z_2^2 + \\cdots + Z_k^2\n",
        "follows a Chi-Square distribution with (k) degrees of freedom.\n",
        "\n",
        "Characteristics:\n",
        "Shape: Right-skewed, but becomes more symmetric (approaching normal) as df increases.\n",
        "\n",
        "Mean: Equals the degrees of freedom (Mean=df\\text{Mean} = df\\text{Mean} = df\n",
        ").\n",
        "\n",
        "Variance: Equals twice the degrees of freedom (Variance=2⋅df\\text{Variance} = 2 \\cdot df\\text{Variance} = 2 \\cdot df\n",
        ").\n",
        "\n",
        "Range: Values are non-negative (χ2≥0\\chi^2 \\geq 0\\chi^2 \\geq 0\n",
        ").\n",
        "\n",
        "Degrees of Freedom (df): Determines the distribution’s shape. For example:\n",
        "Low df (e.g., df = 2): Highly skewed.\n",
        "\n",
        "High df (e.g., df = 20): More bell-shaped.\n",
        "\n",
        "The Chi-Square distribution is used in statistical tests and modeling, particularly for analyzing categorical data and variances. Its primary applications include:\n",
        "Chi-Square Tests:\n",
        "The Chi-Square distribution underpins two main hypothesis tests for categorical data:\n",
        "Chi-Square Test of Independence:\n",
        "Purpose: Tests whether two categorical variables are independent (e.g., is gender independent of voting preference?).\n",
        "\n",
        "How: Compares observed frequencies in a contingency table to expected frequencies under the null hypothesis (H₀: variables are independent).\n",
        "\n",
        "Test Statistic:\n",
        "χ2=∑(Oi−Ei)2Ei\\chi^2 = \\sum \\frac{(O_i - E_i)^2}{E_i}\\chi^2 = \\sum \\frac{(O_i - E_i)^2}{E_i}\n",
        "where OiO_iO_i\n",
        ": observed frequency, EiE_iE_i\n",
        ": expected frequency.\n",
        "\n",
        "Degrees of Freedom: df=(r−1)(c−1)df = (r-1)(c-1)df = (r-1)(c-1)\n",
        ", where (r) = number of rows, (c) = number of columns in the contingency table.\n",
        "\n",
        "Example: A 2x3 table of smoking status (smoker, non-smoker) vs. exercise level (low, medium, high) has df=(2−1)(3−1)=2df = (2-1)(3-1) = 2df = (2-1)(3-1) = 2\n",
        ". If the χ2\\chi^2\\chi^2\n",
        " statistic is large (p-value < α, e.g., 0.05), reject H₀, concluding dependence.\n",
        "\n",
        "Chi-Square Goodness-of-Fit Test:\n",
        "Purpose: Tests whether observed categorical data fits an expected distribution (e.g., does a die produce equal frequencies for each face?).\n",
        "\n",
        "How: Compares observed counts to expected counts under H₀ (e.g., uniform distribution).\n",
        "\n",
        "Test Statistic: Same as above, summing over categories.\n",
        "\n",
        "Degrees of Freedom: df=k−1df = k - 1df = k - 1\n",
        ", where (k) = number of categories (minus additional constraints if parameters are estimated).\n",
        "\n",
        "Example: Rolling a die 60 times yields counts [8, 12, 9, 11, 10, 10]. Test H₀: equal probabilities (expected = 10 per face). Compute χ2\\chi^2\\chi^2\n",
        ", with df=6−1=5df = 6-1 = 5df = 6-1 = 5\n",
        ". Compare to Chi-Square critical value or p-value.\n",
        "\n",
        "Variance Testing:\n",
        "The Chi-Square distribution is used to test hypotheses about a population variance (σ2\\sigma^2\\sigma^2\n",
        ").\n",
        "\n",
        "Test Statistic:\n",
        "χ2=(n−1)s2σ02\\chi^2 = \\frac{(n-1)s^2}{\\sigma_0^2}\\chi^2 = \\frac{(n-1)s^2}{\\sigma_0^2}\n",
        "where:\n",
        "s2s^2s^2\n",
        ": sample variance\n",
        "\n",
        "σ02\\sigma_0^2\\sigma_0^2\n",
        ": hypothesized population variance (from H₀)\n",
        "\n",
        "(n): sample size\n",
        "\n",
        "df=n−1df = n-1df = n-1\n",
        "\n",
        "Use: To check if a sample’s variance differs from a known or hypothesized value (e.g., is the variance in machine output consistent with a target?).\n",
        "\n",
        "Example: A sample of 20 measurements has s2=25s^2 = 25s^2 = 25\n",
        ". Test H₀: σ2=20\\sigma^2 = 20\\sigma^2 = 20\n",
        ". Compute χ2=(20−1)⋅2520=23.75\\chi^2 = \\frac{(20-1) \\cdot 25}{20} = 23.75\\chi^2 = \\frac{(20-1) \\cdot 25}{20} = 23.75\n",
        ", df=19df = 19df = 19\n",
        ". Compare to Chi-Square critical values for significance.\n",
        "\n"
      ],
      "metadata": {
        "id": "XIHPzf6lSBfP"
      }
    },
    {
      "cell_type": "markdown",
      "source": [
        "#18-What is the Chi-square goodness of fit test, and how is it applied?\n",
        "-The Chi-Square Goodness of Fit Test is a statistical hypothesis test used to determine whether an observed frequency distribution of categorical data matches an expected distribution. It assesses whether the observed counts in different categories align with what would be expected under a specific theoretical or hypothesized model (e.g., uniform distribution, known proportions).\n",
        "Purpose: To test if the sample data \"fits\" a specified distribution under the null hypothesis (H₀).\n",
        "\n",
        "Test Statistic: The Chi-Square statistic measures the discrepancy between observed and expected frequencies:\n",
        "χ2=∑(Oi−Ei)2Ei\\chi^2 = \\sum \\frac{(O_i - E_i)^2}{E_i}\\chi^2 = \\sum \\frac{(O_i - E_i)^2}{E_i}\n",
        "where:\n",
        "OiO_iO_i\n",
        ": Observed frequency in category (i).\n",
        "\n",
        "EiE_iE_i\n",
        ": Expected frequency in category (i).\n",
        "\n",
        "Sum is over all categories.\n",
        "\n",
        "Distribution: Under H₀, the test statistic follows a Chi-Square distribution with degrees of freedom (df) typically calculated as:\n",
        "df=k−1−mdf = k - 1 - mdf = k - 1 - m\n",
        "where:\n",
        "(k): Number of categories.\n",
        "\n",
        "(m): Number of parameters estimated from the data to compute expected frequencies (if any).\n",
        "\n",
        "If no parameters are estimated (e.g., testing a fixed distribution), m=0m = 0m = 0\n",
        ", so df=k−1df = k - 1df = k - 1\n",
        ".\n",
        "\n",
        "The Chi-Square Goodness of Fit Test is applied when:\n",
        "Data is Categorical: The data consists of counts or frequencies in mutually exclusive categories (e.g., colors, responses, outcomes).\n",
        "\n",
        "Testing a Hypothesized Distribution: You want to check if observed frequencies match a specific model, such as:\n",
        "Uniform distribution (equal probabilities across categories).\n",
        "\n",
        "A known proportion (e.g., historical ratios, genetic ratios like 9:3:3:1).\n",
        "\n",
        "A theoretical distribution (e.g., Poisson, normal) with specified parameters.\n",
        "\n",
        "Sample Size is Adequate: Expected frequencies (EiE_iE_i\n",
        ") should generally be at least 5 for most categories to ensure the χ2\\chi^2\\chi^2\n",
        " approximation is valid. If not, exact tests or combining categories may be needed.\n",
        "\n",
        "Independence: Observations are independent (one observation doesn’t influence another).\n",
        "\n",
        "Hypotheses:\n",
        "Null Hypothesis (H₀): The observed frequencies follow the expected distribution (the data fits the hypothesized model).\n",
        "\n",
        "Alternative Hypothesis (H₁): The observed frequencies do not follow the expected distribution (the data does not fit the model).\n",
        "\n",
        "Define the Hypotheses:\n",
        "Specify H₀: The data follows the expected distribution (e.g., “The die is fair, with equal probabilities for each face”).\n",
        "\n",
        "Specify H₁: The data does not follow the expected distribution (e.g., “The die is biased”).\n",
        "\n",
        "Collect Data and Calculate Observed Frequencies:\n",
        "Record the counts (OiO_iO_i\n",
        ") for each category from the sample.\n",
        "\n",
        "Example: Rolling a six-sided die 60 times yields counts [8, 12, 9, 11, 10, 10] for faces 1 to 6.\n",
        "\n",
        "Determine Expected Frequencies:\n",
        "Compute EiE_iE_i\n",
        " based on the hypothesized distribution and sample size ((n)).\n",
        "\n",
        "For a uniform distribution: Ei=n/kE_i = n / kE_i = n / k\n",
        ", where (k) is the number of categories.\n",
        "\n",
        "For known proportions: Ei=n⋅piE_i = n \\cdot p_iE_i = n \\cdot p_i\n",
        ", where pip_ip_i\n",
        " is the hypothesized probability for category (i).\n",
        "\n",
        "If parameters are estimated (e.g., mean of a Poisson), use the sample data to estimate them, reducing df.\n",
        "\n",
        "Example: For the die, if H₀ assumes fairness, Ei=60/6=10E_i = 60 / 6 = 10E_i = 60 / 6 = 10\n",
        " for each face.\n",
        "\n",
        "Calculate the Chi-Square Statistic:\n",
        "Use the formula:\n",
        "χ2=∑(Oi−Ei)2Ei\\chi^2 = \\sum \\frac{(O_i - E_i)^2}{E_i}\\chi^2 = \\sum \\frac{(O_i - E_i)^2}{E_i}\n",
        "\n",
        "Example: For the die data [8, 12, 9, 11, 10, 10], expected = [10, 10, 10, 10, 10, 10]:\n",
        "χ2=(8−10)210+(12−10)210+(9−10)210+(11−10)210+(10−10)210+(10−10)210\\chi^2 = \\frac{(8-10)^2}{10} + \\frac{(12-10)^2}{10} + \\frac{(9-10)^2}{10} + \\frac{(11-10)^2}{10} + \\frac{(10-10)^2}{10} + \\frac{(10-10)^2}{10}\\chi^2 = \\frac{(8-10)^2}{10} + \\frac{(12-10)^2}{10} + \\frac{(9-10)^2}{10} + \\frac{(11-10)^2}{10} + \\frac{(10-10)^2}{10} + \\frac{(10-10)^2}{10}\n",
        "=410+410+110+110+0+0=0.4+0.4+0.1+0.1=1= \\frac{4}{10} + \\frac{4}{10} + \\frac{1}{10} + \\frac{1}{10} + 0 + 0 = 0.4 + 0.4 + 0.1 + 0.1 = 1= \\frac{4}{10} + \\frac{4}{10} + \\frac{1}{10} + \\frac{1}{10} + 0 + 0 = 0.4 + 0.4 + 0.1 + 0.1 = 1\n",
        "\n",
        "Determine Degrees of Freedom:\n",
        "For a fixed distribution (no estimated parameters), df=k−1df = k - 1df = k - 1\n",
        ".\n",
        "\n",
        "Example: For the die, k=6k = 6k = 6\n",
        ", no parameters estimated, so df=6−1=5df = 6 - 1 = 5df = 6 - 1 = 5\n",
        ".\n",
        "\n",
        "If parameters are estimated (e.g., mean and variance for a normal distribution fit), subtract the number of estimated parameters ((m)).\n",
        "\n",
        "Find the P-value or Critical Value:\n",
        "P-value: Compare the χ2\\chi^2\\chi^2\n",
        " statistic to the Chi-Square distribution with the appropriate df. Software (e.g., R, Python) or Chi-Square tables give the p-value.\n",
        "Example: For χ2=1\\chi^2 = 1\\chi^2 = 1\n",
        ", df=5df = 5df = 5\n",
        ", the p-value is approximately 0.96 (very large).\n",
        "\n",
        "Critical Value: For a significance level α\\alpha\\alpha\n",
        " (e.g., 0.05), find the critical χ2\\chi^2\\chi^2\n",
        " value for the given df. If the calculated χ2\\chi^2\\chi^2\n",
        " exceeds it, reject H₀.\n",
        "Example: For df=5df = 5df = 5\n",
        ", α=0.05\\alpha = 0.05\\alpha = 0.05\n",
        ", critical value ≈ 11.07. Since 1<11.071 < 11.071 < 11.07\n",
        ", do not reject H₀.\n",
        "\n",
        "Make a Decision:\n",
        "If p-value ≤ α\\alpha\\alpha\n",
        " or χ2≥critical value\\chi^2 \\geq \\text{critical value}\\chi^2 \\geq \\text{critical value}\n",
        ", reject H₀, concluding the data does not fit the expected distribution.\n",
        "\n",
        "If p-value > α\\alpha\\alpha\n",
        " or χ2<critical value\\chi^2 < \\text{critical value}\\chi^2 < \\text{critical value}\n",
        ", fail to reject H₀, suggesting the data is consistent with the expected distribution.\n",
        "\n",
        "Example: p = 0.96 > 0.05, so fail to reject H₀: the die’s outcomes are consistent with fairness.\n",
        "\n",
        "Interpret Results:\n",
        "Report the χ2\\chi^2\\chi^2\n",
        " statistic, df, p-value, and conclusion in context.\n",
        "\n",
        "Example: “The die’s observed frequencies fit a uniform distribution, χ2(5)=1,p=0.96\\chi^2(5) = 1, p = 0.96\\chi^2(5) = 1, p = 0.96\n",
        ", suggesting no evidence of bias.”\n",
        "\n"
      ],
      "metadata": {
        "id": "MUoQqFF3Sr53"
      }
    },
    {
      "cell_type": "markdown",
      "source": [
        "#19- What is the F-distribution, and when is it used in hypothesis testing?\n",
        "- The F-distribution is a continuous probability distribution used in statistical inference, particularly for comparing variances or testing the equality of variances across two or more populations. It arises as the ratio of two scaled Chi-Square random variables, each divided by their respective degrees of freedom.\n",
        "Definition: If (U) and (V) are independent Chi-Square random variables with d1d_1d_1\n",
        " and d2d_2d_2\n",
        " degrees of freedom, respectively, then the ratio:\n",
        "F=U/d1V/d2F = \\frac{U / d_1}{V / d_2}F = \\frac{U / d_1}{V / d_2}\n",
        "follows an F-distribution with d1d_1d_1\n",
        " (numerator) and d2d_2d_2\n",
        " (denominator) degrees of freedom.\n",
        "\n",
        "Characteristics:\n",
        "Shape: Right-skewed, non-negative (values ≥0\\geq 0\\geq 0\n",
        "), but approaches a more symmetric shape as degrees of freedom increase.\n",
        "\n",
        "Parameters: Defined by two degrees of freedom:\n",
        "d1d_1d_1\n",
        ": Numerator degrees of freedom (related to the first variance or sample).\n",
        "\n",
        "d2d_2d_2\n",
        ": Denominator degrees of freedom (related to the second variance or sample).\n",
        "\n",
        "Mean: For d2>2d_2 > 2d_2 > 2\n",
        ", the mean is d2d2−2\\frac{d_2}{d_2 - 2}\\frac{d_2}{d_2 - 2}\n",
        ".\n",
        "\n",
        "Variance: Exists for d2>4d_2 > 4d_2 > 4\n",
        ", and is more complex, depending on both d1d_1d_1\n",
        " and d2d_2d_2\n",
        ".\n",
        "\n",
        "Behavior: The F-distribution’s shape varies with d1d_1d_1\n",
        " and d2d_2d_2\n",
        ". Smaller degrees of freedom lead to greater skewness; larger values make it more bell-shaped.\n",
        "\n",
        "The F-distribution is primarily used in hypothesis tests involving the comparison of variances or the analysis of variance across groups. Its key applications include:\n",
        "F-Test for Equality of Variances:\n",
        "Purpose: Tests whether two populations have equal variances (σ12=σ22\\sigma_1^2 = \\sigma_2^2\\sigma_1^2 = \\sigma_2^2\n",
        ").\n",
        "\n",
        "Hypotheses:\n",
        "H₀: σ12=σ22\\sigma_1^2 = \\sigma_2^2\\sigma_1^2 = \\sigma_2^2\n",
        " (variances are equal).\n",
        "\n",
        "H₁: σ12≠σ22\\sigma_1^2 \\neq \\sigma_2^2\\sigma_1^2 \\neq \\sigma_2^2\n",
        " (two-tailed), or σ12>σ22\\sigma_1^2 > \\sigma_2^2\\sigma_1^2 > \\sigma_2^2\n",
        " or σ12<σ22\\sigma_1^2 < \\sigma_2^2\\sigma_1^2 < \\sigma_2^2\n",
        " (one-tailed).\n",
        "\n",
        "Test Statistic:\n",
        "F=s12s22F = \\frac{s_1^2}{s_2^2}F = \\frac{s_1^2}{s_2^2}\n",
        "where:\n",
        "s12s_1^2s_1^2\n",
        ": Variance of the first sample (typically the larger variance to ensure F≥1F \\geq 1F \\geq 1\n",
        " for two-tailed tests).\n",
        "\n",
        "s22s_2^2s_2^2\n",
        ": Variance of the second sample.\n",
        "\n",
        "Degrees of freedom: d1=n1−1d_1 = n_1 - 1d_1 = n_1 - 1\n",
        ", d2=n2−1d_2 = n_2 - 1d_2 = n_2 - 1\n",
        ", where n1,n2n_1, n_2n_1, n_2\n",
        " are sample sizes.\n",
        "\n",
        "Use Case: To check the assumption of equal variances before applying a two-sample T-test (pooled version) or other parametric tests.\n",
        "\n",
        "Example: Two machines produce parts with sample variances s12=25s_1^2 = 25s_1^2 = 25\n",
        " (n1=10n_1 = 10n_1 = 10\n",
        ") and s22=16s_2^2 = 16s_2^2 = 16\n",
        " (n2=12n_2 = 12n_2 = 12\n",
        "). Test H₀: σ12=σ22\\sigma_1^2 = \\sigma_2^2\\sigma_1^2 = \\sigma_2^2\n",
        ".\n",
        "F=2516=1.5625F = \\frac{25}{16} = 1.5625F = \\frac{25}{16} = 1.5625\n",
        ".\n",
        "\n",
        "d1=10−1=9d_1 = 10-1 = 9d_1 = 10-1 = 9\n",
        ", d2=12−1=11d_2 = 12-1 = 11d_2 = 12-1 = 11\n",
        ".\n",
        "\n",
        "Compare to critical F-value (e.g., for α=0.05\\alpha = 0.05\\alpha = 0.05\n",
        ", two-tailed) or compute p-value. If (F) is not extreme, fail to reject H₀.\n",
        "\n"
      ],
      "metadata": {
        "id": "tRtVR5qhTrVX"
      }
    },
    {
      "cell_type": "markdown",
      "source": [
        "#20-What is an ANOVA test, and what are its assumptions?\n",
        "- ANOVA (Analysis of Variance) is a statistical hypothesis test used to determine whether there are significant differences between the means of three or more groups. It compares the variance between groups (due to differences in means) to the variance within groups (due to random variation) to assess if the group means are equal.\n",
        "Purpose: To test whether group means differ significantly without conducting multiple pairwise T-tests, which inflate the Type I error rate.\n",
        "\n",
        "Types:\n",
        "One-Way ANOVA: Compares means across one factor (e.g., test scores across three teaching methods).\n",
        "\n",
        "Two-Way ANOVA: Examines two factors and their interaction (e.g., teaching method and student gender).\n",
        "\n",
        "Repeated Measures ANOVA: For dependent groups (e.g., same subjects measured over time).\n",
        "\n",
        "Hypotheses (for One-Way ANOVA):\n",
        "Null Hypothesis (H₀): All group means are equal (μ1=μ2=⋯=μk\\mu_1 = \\mu_2 = \\cdots = \\mu_k\\mu_1 = \\mu_2 = \\cdots = \\mu_k\n",
        ").\n",
        "\n",
        "Alternative Hypothesis (H₁): At least one group mean differs.\n",
        "\n",
        "Test Statistic:\n",
        "F=MSBMSWF = \\frac{\\text{MSB}}{\\text{MSW}}F = \\frac{\\text{MSB}}{\\text{MSW}}\n",
        "where:\n",
        "MSB (Mean Square Between): Variance between group means, calculated as:\n",
        "MSB=SSBk−1\\text{MSB} = \\frac{\\text{SSB}}{k-1}\\text{MSB} = \\frac{\\text{SSB}}{k-1}\n",
        "SSB (Sum of Squares Between): Measures variation due to group differences.\n",
        "\n",
        "(k): Number of groups.\n",
        "\n",
        "MSW (Mean Square Within): Average variance within groups, calculated as:\n",
        "MSW=SSWN−k\\text{MSW} = \\frac{\\text{SSW}}{N-k}\\text{MSW} = \\frac{\\text{SSW}}{N-k}\n",
        "SSW (Sum of Squares Within): Measures random variation within groups.\n",
        "\n",
        "(N): Total sample size.\n",
        "\n",
        "The (F)-statistic follows an F-distribution with degrees of freedom d1=k−1d_1 = k-1d_1 = k-1\n",
        " (numerator) and d2=N−kd_2 = N-kd_2 = N-k\n",
        " (denominator).\n",
        "\n",
        "Decision: A large (F) (small p-value, e.g., < 0.05) rejects H₀, indicating at least one mean differs. Post-hoc tests (e.g., Tukey’s HSD) identify which groups differ.\n",
        "\n",
        "Example: Testing if three diets (A, B, C) yield different weight loss. Sample means: 5 kg, 7 kg, 4 kg. ANOVA computes (F). If p < 0.05, reject H₀, suggesting some diets differ.\n",
        "\n",
        "For ANOVA results to be valid, the following assumptions must hold:\n",
        "Normality:\n",
        "The data within each group should be approximately normally distributed.\n",
        "\n",
        "Check: Use graphical methods (e.g., Q-Q plots, histograms) or tests (e.g., Shapiro-Wilk).\n",
        "\n",
        "Robustness: ANOVA is somewhat robust to moderate departures from normality, especially with larger samples, due to the Central Limit Theorem.\n",
        "\n",
        "Violation: If normality is severely violated (e.g., heavy skewness), consider non-parametric alternatives (e.g., Kruskal-Wallis test) or data transformation (e.g., log).\n",
        "\n",
        "Homogeneity of Variances (Homoscedasticity):\n",
        "The variances of the groups should be equal (σ12=σ22=⋯=σk2\\sigma_1^2 = \\sigma_2^2 = \\cdots = \\sigma_k^2\\sigma_1^2 = \\sigma_2^2 = \\cdots = \\sigma_k^2\n",
        ").\n",
        "\n",
        "Check: Use tests like Levene’s test or Bartlett’s test (though Bartlett’s is sensitive to non-normality).\n",
        "\n",
        "Robustness: ANOVA is robust to unequal variances if group sizes are equal or similar. Unequal variances with unbalanced designs (very different sample sizes) can lead to inaccurate results.\n",
        "\n",
        "Violation: Use Welch’s ANOVA (adjusts for unequal variances) or non-parametric tests.\n",
        "\n",
        "Independence:\n",
        "Observations within and between groups must be independent (one observation does not influence another).\n",
        "\n",
        "Check: Ensured by study design (e.g., random assignment, no paired or repeated measures unless using appropriate ANOVA variants).\n",
        "\n",
        "Violation: If observations are correlated (e.g., repeated measures on the same subjects), use repeated measures ANOVA or mixed models.\n",
        "\n",
        "Random Sampling:\n",
        "Data should come from random samples from the populations of interest.\n",
        "\n",
        "Check: Part of study design, not a statistical test.\n",
        "\n",
        "Violation: Non-random sampling can bias results, reducing generalizability.\n",
        "\n",
        "Quantitative or Interval Data (for the response variable):\n",
        "The dependent variable should be continuous (measured on an interval or ratio scale, e.g., weight, time).\n",
        "\n",
        "Check: Verify the measurement scale of the response variable.\n",
        "\n",
        "Violation: For categorical data, use Chi-Square tests or logistic regression.\n",
        "\n"
      ],
      "metadata": {
        "id": "cD0aixKjUXlw"
      }
    },
    {
      "cell_type": "markdown",
      "source": [
        "#21-What are the different types of ANOVA tests?\n",
        "-ANOVA (Analysis of Variance) is a statistical method used to compare means among groups and determine if at least one group mean is significantly different from the others. There are several types of ANOVA tests, depending on the number of independent variables and the design of the experiment.\n",
        "\n",
        "One-Way ANOVA\n",
        "Purpose: Compares the means of three or more independent (unrelated) groups based on one independent variable.\n",
        "\n",
        "Example: Testing average test scores across three different teaching methods.\n",
        "\n",
        "2. Two-Way ANOVA\n",
        "Purpose: Analyzes the effect of two independent variables on one dependent variable and checks for interaction effects between the variables.\n",
        "\n",
        "Example: Examining how both teaching method and gender affect test scores.\n",
        "\n",
        "3. Repeated Measures ANOVA\n",
        "Purpose: Used when the same subjects are measured multiple times under different conditions or over time.\n",
        "\n",
        "Example: Measuring blood pressure of patients before, during, and after treatment.\n",
        "\n",
        "4. Two-Way Repeated Measures ANOVA\n",
        "Purpose: Extension of repeated measures ANOVA that includes two within-subjects factors or one within- and one between-subjects factor.\n",
        "\n",
        "Example: Studying the impact of two different therapies over multiple time points on the same patients.\n",
        "\n",
        "5. MANOVA (Multivariate ANOVA)\n",
        "Purpose: Used when there are two or more dependent variables.\n",
        "\n",
        "Example: Analyzing the effect of diet type on both weight loss and cholesterol level."
      ],
      "metadata": {
        "id": "_Udgx8ArU0iX"
      }
    },
    {
      "cell_type": "markdown",
      "source": [
        "#22- What is the F-test, and how does it relate to hypothesis testing?\n",
        "- The F-test is a statistical test used to compare variances or to determine whether the means of multiple groups are significantly different. It’s commonly used in ANOVA (Analysis of Variance) and regression analysis.\n",
        "\n",
        "The F-test evaluates the ratio of two variances:\n",
        "\n",
        "𝐹\n",
        "=\n",
        "Variance between groups\n",
        "Variance within groups\n",
        "F=\n",
        "Variance within groups\n",
        "Variance between groups\n",
        "​\n",
        "\n",
        "If the variances are similar, the F-value is close to 1.\n",
        "\n",
        "A large F-value suggests that the group means are not all equal.\n",
        "Null Hypothesis (H₀): All group means are equal.\n",
        "\n",
        "Alternative Hypothesis (H₁): At least one group mean is different.\n",
        "\n",
        "Calculate the F-statistic.\n",
        "\n",
        "Compare it to a critical F-value from the F-distribution table (based on degrees of freedom and significance level).\n",
        "\n",
        "If the calculated F > critical F, or p-value < α (like 0.05), reject H₀."
      ],
      "metadata": {
        "id": "scTa8G4DVoyO"
      }
    },
    {
      "cell_type": "markdown",
      "source": [
        "##Practical"
      ],
      "metadata": {
        "id": "PUjmUKryWJlf"
      }
    },
    {
      "cell_type": "markdown",
      "source": [
        "#1Write a Python program to perform a Z-test for comparing a sample mean to a known population mean and interpret the results"
      ],
      "metadata": {
        "id": "m9slhtGJWNom"
      }
    },
    {
      "cell_type": "code",
      "source": [
        "import numpy as np\n",
        "from scipy.stats import norm\n",
        "\n",
        "# Sample data\n",
        "sample = np.array([51, 49, 50, 52, 48, 50, 49, 51, 50, 52])\n",
        "sample_mean = np.mean(sample)\n",
        "sample_size = len(sample)\n",
        "\n",
        "# Known population parameters\n",
        "population_mean = 50\n",
        "population_std = 2\n",
        "\n",
        "# Z-test calculation\n",
        "z = (sample_mean - population_mean) / (population_std / np.sqrt(sample_size))\n",
        "p_value = 2 * (1 - norm.cdf(abs(z)))  # two-tailed test\n",
        "\n",
        "# Output\n",
        "print(f\"Z-score: {z:.2f}\")\n",
        "print(f\"P-value: {p_value:.4f}\")\n",
        "\n",
        "# Interpretation\n",
        "alpha = 0.05\n",
        "if p_value < alpha:\n",
        "    print(\"Reject the null hypothesis: Sample mean is significantly different.\")\n",
        "else:\n",
        "    print(\"Fail to reject the null hypothesis: No significant difference.\")"
      ],
      "metadata": {
        "colab": {
          "base_uri": "https://localhost:8080/"
        },
        "id": "WrxYLm6lsLJ6",
        "outputId": "b57b291e-9fd6-4118-a2eb-4d565bb3a8ef"
      },
      "execution_count": 5,
      "outputs": [
        {
          "output_type": "stream",
          "name": "stdout",
          "text": [
            "Z-score: 0.32\n",
            "P-value: 0.7518\n",
            "Fail to reject the null hypothesis: No significant difference.\n"
          ]
        }
      ]
    },
    {
      "cell_type": "markdown",
      "source": [
        "#2-Simulate random data to perform hypothesis testing and calculate the corresponding P-value using Python"
      ],
      "metadata": {
        "id": "_xLPCs51tNLw"
      }
    },
    {
      "cell_type": "code",
      "source": [
        "import numpy as np\n",
        "from scipy.stats import ttest_1samp\n",
        "\n",
        "# Simulate random data (sample from a normal distribution)\n",
        "data = np.random.normal(loc=52, scale=5, size=30)\n",
        "\n",
        "# Known population mean\n",
        "population_mean = 50\n",
        "\n",
        "# Perform one-sample t-test\n",
        "t_stat, p_value = ttest_1samp(data, population_mean)\n",
        "\n",
        "# Output results\n",
        "print(f\"T-statistic: {t_stat:.2f}\")\n",
        "print(f\"P-value: {p_value:.4f}\")\n",
        "\n",
        "# Interpret result\n",
        "alpha = 0.05\n",
        "if p_value < alpha:\n",
        "    print(\"Reject the null hypothesis: Significant difference.\")\n",
        "else:\n",
        "    print(\"Fail to reject the null hypothesis: No significant difference.\")"
      ],
      "metadata": {
        "colab": {
          "base_uri": "https://localhost:8080/"
        },
        "id": "JNZyE9QVtShJ",
        "outputId": "09b391cf-4899-43a8-9b0f-e4df6c5435a9"
      },
      "execution_count": 6,
      "outputs": [
        {
          "output_type": "stream",
          "name": "stdout",
          "text": [
            "T-statistic: 3.91\n",
            "P-value: 0.0005\n",
            "Reject the null hypothesis: Significant difference.\n"
          ]
        }
      ]
    },
    {
      "cell_type": "markdown",
      "source": [
        "#3- Implement a one-sample Z-test using Python to compare the sample mean with the population mean"
      ],
      "metadata": {
        "id": "6p-JQJFTtrIZ"
      }
    },
    {
      "cell_type": "code",
      "source": [
        "import numpy as np\n",
        "from scipy.stats import norm\n",
        "\n",
        "# Sample data\n",
        "sample = np.array([51, 52, 50, 49, 53, 52, 48, 50, 51, 50])\n",
        "sample_mean = np.mean(sample)\n",
        "sample_size = len(sample)\n",
        "\n",
        "# Population parameters\n",
        "population_mean = 50\n",
        "population_std = 2  # Known population standard deviation\n",
        "\n",
        "# Z-test calculation\n",
        "z = (sample_mean - population_mean) / (population_std / np.sqrt(sample_size))\n",
        "p_value = 2 * (1 - norm.cdf(abs(z)))  # Two-tailed test\n",
        "\n",
        "# Output\n",
        "print(f\"Z-score: {z:.2f}\")\n",
        "print(f\"P-value: {p_value:.4f}\")\n",
        "\n",
        "# Interpretation\n",
        "alpha = 0.05\n",
        "if p_value < alpha:\n",
        "    print(\"Reject the null hypothesis: Sample mean is significantly different.\")\n",
        "else:\n",
        "    print(\"Fail to reject the null hypothesis: No significant difference.\")"
      ],
      "metadata": {
        "colab": {
          "base_uri": "https://localhost:8080/"
        },
        "id": "MQ3JnsQgtyIE",
        "outputId": "b5dbaf8c-b5e4-4017-83b9-8546bd2b82ce"
      },
      "execution_count": 7,
      "outputs": [
        {
          "output_type": "stream",
          "name": "stdout",
          "text": [
            "Z-score: 0.95\n",
            "P-value: 0.3428\n",
            "Fail to reject the null hypothesis: No significant difference.\n"
          ]
        }
      ]
    },
    {
      "cell_type": "markdown",
      "source": [
        "#4- Perform a two-tailed Z-test using Python and visualize the decision region on a plot"
      ],
      "metadata": {
        "id": "3JpwUsT2uIcq"
      }
    },
    {
      "cell_type": "code",
      "source": [
        "import numpy as np\n",
        "from scipy.stats import norm\n",
        "import matplotlib.pyplot as plt\n",
        "\n",
        "# Sample data\n",
        "sample = np.array([51, 52, 50, 49, 53, 52, 48, 50, 51, 50])\n",
        "sample_mean = np.mean(sample)\n",
        "sample_size = len(sample)\n",
        "\n",
        "# Population parameters\n",
        "population_mean = 50\n",
        "population_std = 2  # known std\n",
        "\n",
        "# Z-test calculation\n",
        "z = (sample_mean - population_mean) / (population_std / np.sqrt(sample_size))\n",
        "p_value = 2 * (1 - norm.cdf(abs(z)))\n",
        "\n",
        "# Output results\n",
        "print(f\"Z-score: {z:.2f}\")\n",
        "print(f\"P-value: {p_value:.4f}\")\n",
        "\n",
        "# Plot the decision region\n",
        "x = np.linspace(-4, 4, 1000)\n",
        "y = norm.pdf(x)\n",
        "\n",
        "plt.plot(x, y, label='Standard Normal Distribution')\n",
        "plt.fill_between(x, y, where=(x <= -1.96) | (x >= 1.96), color='red', alpha=0.3, label='Rejection Region (α=0.05)')\n",
        "plt.axvline(z, color='blue', linestyle='--', label=f'Z = {z:.2f}')\n",
        "plt.axvline(-1.96, color='black', linestyle='dotted')\n",
        "plt.axvline(1.96, color='black', linestyle='dotted')\n",
        "plt.title(\"Two-Tailed Z-Test Decision Region\")\n",
        "plt.xlabel(\"Z-value\")\n",
        "plt.ylabel(\"Probability Density\")\n",
        "plt.legend()\n",
        "plt.grid(True)\n",
        "plt.show()\n",
        "\n",
        "# Interpretation\n",
        "alpha = 0.05\n",
        "if p_value < alpha:\n",
        "    print(\"Reject the null hypothesis.\")\n",
        "else:\n",
        "    print(\"Fail to reject the null hypothesis.\")"
      ],
      "metadata": {
        "colab": {
          "base_uri": "https://localhost:8080/",
          "height": 524
        },
        "id": "tuS7Z2m9uN0U",
        "outputId": "6d6b88ea-f1fd-4810-81f0-584ee37e2685"
      },
      "execution_count": 8,
      "outputs": [
        {
          "output_type": "stream",
          "name": "stdout",
          "text": [
            "Z-score: 0.95\n",
            "P-value: 0.3428\n"
          ]
        },
        {
          "output_type": "display_data",
          "data": {
            "text/plain": [
              "<Figure size 640x480 with 1 Axes>"
            ],
            "image/png": "[encoded data removed]"
          },
          "metadata": {}
        },
        {
          "output_type": "stream",
          "name": "stdout",
          "text": [
            "Fail to reject the null hypothesis.\n"
          ]
        }
      ]
    },
    {
      "cell_type": "markdown",
      "source": [
        "#5- Create a Python function that calculates and visualizes Type 1 and Type 2 errors during hypothesis testing"
      ],
      "metadata": {
        "id": "79pUHIGnuh1f"
      }
    },
    {
      "cell_type": "code",
      "source": [
        "import numpy as np\n",
        "import matplotlib.pyplot as plt\n",
        "from scipy.stats import norm\n",
        "\n",
        "def visualize_type1_type2_errors(mu0=50, mu1=52, sigma=5, alpha=0.05, n=30):\n",
        "    # Standard error\n",
        "    se = sigma / np.sqrt(n)\n",
        "\n",
        "    # Critical value for the given alpha (two-tailed)\n",
        "    z_critical = norm.ppf(1 - alpha/2)\n",
        "    margin = z_critical * se\n",
        "\n",
        "    # Critical region under H0\n",
        "    lower_crit = mu0 - margin\n",
        "    upper_crit = mu0 + margin\n",
        "\n",
        "    # x range for plotting\n",
        "    x = np.linspace(mu0 - 4*se, mu1 + 4*se, 1000)\n",
        "\n",
        "    # Distributions under H0 and H1\n",
        "    y0 = norm.pdf(x, mu0, se)\n",
        "    y1 = norm.pdf(x, mu1, se)\n",
        "\n",
        "    # Plot\n",
        "    plt.plot(x, y0, label='H₀ distribution (mean = {})'.format(mu0), color='blue')\n",
        "    plt.plot(x, y1, label='H₁ distribution (mean = {})'.format(mu1), color='green')\n",
        "\n",
        "    # Type I Error (α): Rejecting H₀ when it's true\n",
        "    plt.fill_between(x, y0, where=(x <= lower_crit) | (x >= upper_crit), color='red', alpha=0.3, label='Type I Error (α)')\n",
        "\n",
        "    # Type II Error (β): Failing to reject H₀ when H₁ is true\n",
        "    plt.fill_between(x, y1, where=(x > lower_crit) & (x < upper_crit), color='orange', alpha=0.3, label='Type II Error (β)')\n",
        "\n",
        "    plt.axvline(lower_crit, color='black', linestyle='--')\n",
        "    plt.axvline(upper_crit, color='black', linestyle='--')\n",
        "\n",
        "    plt.title(\"Type I and Type II Errors in Hypothesis Testing\")\n",
        "    plt.xlabel(\"Test Statistic\")\n",
        "    plt.ylabel(\"Probability Density\")\n",
        "    plt.legend()\n",
        "    plt.grid(True)\n",
        "    plt.show()\n",
        "\n",
        "# Example usage\n",
        "visualize_type1_type2_errors()"
      ],
      "metadata": {
        "colab": {
          "base_uri": "https://localhost:8080/",
          "height": 472
        },
        "id": "IiOItEvFupLU",
        "outputId": "9d6e4cdc-7290-473c-8876-12b24da43cb9"
      },
      "execution_count": 9,
      "outputs": [
        {
          "output_type": "display_data",
          "data": {
            "text/plain": [
              "<Figure size 640x480 with 1 Axes>"
            ],
            "image/png": "[encoded data removed]"
          },
          "metadata": {}
        }
      ]
    },
    {
      "cell_type": "markdown",
      "source": [
        "#6- Write a Python program to perform an independent T-test and interpret the results."
      ],
      "metadata": {
        "id": "8y7OkKzyu8P2"
      }
    },
    {
      "cell_type": "code",
      "source": [
        "import numpy as np\n",
        "from scipy.stats import ttest_ind\n",
        "\n",
        "# Simulate two independent samples\n",
        "group1 = np.random.normal(loc=50, scale=5, size=30)\n",
        "group2 = np.random.normal(loc=53, scale=5, size=30)\n",
        "\n",
        "# Perform independent t-test\n",
        "t_stat, p_value = ttest_ind(group1, group2)\n",
        "\n",
        "# Output results\n",
        "print(f\"T-statistic: {t_stat:.2f}\")\n",
        "print(f\"P-value: {p_value:.4f}\")\n",
        "\n",
        "# Interpretation\n",
        "alpha = 0.05\n",
        "if p_value < alpha:\n",
        "    print(\"Reject the null hypothesis: The means are significantly different.\")\n",
        "else:\n",
        "    print(\"Fail to reject the null hypothesis: No significant difference between means.\")"
      ],
      "metadata": {
        "colab": {
          "base_uri": "https://localhost:8080/"
        },
        "id": "me1geGAGvDvE",
        "outputId": "d80fa579-5278-440e-d7c9-42f7d41026f5"
      },
      "execution_count": 10,
      "outputs": [
        {
          "output_type": "stream",
          "name": "stdout",
          "text": [
            "T-statistic: -2.45\n",
            "P-value: 0.0171\n",
            "Reject the null hypothesis: The means are significantly different.\n"
          ]
        }
      ]
    },
    {
      "cell_type": "markdown",
      "source": [
        "#7- Perform a paired sample T-test using Python and visualize the comparison results"
      ],
      "metadata": {
        "id": "p5dlGVYZvW2X"
      }
    },
    {
      "cell_type": "code",
      "source": [
        "import numpy as np\n",
        "import matplotlib.pyplot as plt\n",
        "from scipy.stats import ttest_rel\n",
        "\n",
        "# Simulate paired data (before and after)\n",
        "before = np.random.normal(loc=50, scale=5, size=30)\n",
        "after = before + np.random.normal(loc=2, scale=2, size=30)  # small change after\n",
        "\n",
        "# Perform paired t-test\n",
        "t_stat, p_value = ttest_rel(before, after)\n",
        "\n",
        "# Print results\n",
        "print(f\"Paired T-statistic: {t_stat:.2f}\")\n",
        "print(f\"P-value: {p_value:.4f}\")\n",
        "\n",
        "# Interpretation\n",
        "alpha = 0.05\n",
        "if p_value < alpha:\n",
        "    print(\"Reject the null hypothesis: Significant difference between paired samples.\")\n",
        "else:\n",
        "    print(\"Fail to reject the null hypothesis: No significant difference.\")\n",
        "\n",
        "# Visualization\n",
        "plt.figure(figsize=(8, 4))\n",
        "plt.plot(before, label=\"Before\", marker='o')\n",
        "plt.plot(after, label=\"After\", marker='x')\n",
        "plt.title(\"Paired Sample Comparison\")\n",
        "plt.xlabel(\"Subject\")\n",
        "plt.ylabel(\"Measurement\")\n",
        "plt.legend()\n",
        "plt.grid(True)\n",
        "plt.tight_layout()\n",
        "plt.show()"
      ],
      "metadata": {
        "colab": {
          "base_uri": "https://localhost:8080/",
          "height": 459
        },
        "id": "oS4pFdbfvaZA",
        "outputId": "583d5c6f-00ce-4865-9200-a5211eafc740"
      },
      "execution_count": 11,
      "outputs": [
        {
          "output_type": "stream",
          "name": "stdout",
          "text": [
            "Paired T-statistic: -6.50\n",
            "P-value: 0.0000\n",
            "Reject the null hypothesis: Significant difference between paired samples.\n"
          ]
        },
        {
          "output_type": "display_data",
          "data": {
            "text/plain": [
              "<Figure size 800x400 with 1 Axes>"
            ],
            "image/png": "[encoded data removed]"
          },
          "metadata": {}
        }
      ]
    },
    {
      "cell_type": "markdown",
      "source": [
        "#8- Simulate data and perform both Z-test and T-test, then compare the results using Python"
      ],
      "metadata": {
        "id": "LtEUFinGvsMh"
      }
    },
    {
      "cell_type": "code",
      "source": [
        "import numpy as np\n",
        "from scipy.stats import norm, ttest_1samp\n",
        "\n",
        "# Simulate sample data\n",
        "np.random.seed(42)\n",
        "sample = np.random.normal(loc=52, scale=5, size=30)\n",
        "sample_mean = np.mean(sample)\n",
        "sample_size = len(sample)\n",
        "\n",
        "# Population parameters\n",
        "population_mean = 50\n",
        "population_std = 5  # known std for Z-test\n",
        "\n",
        "# Z-test (using known population std)\n",
        "z = (sample_mean - population_mean) / (population_std / np.sqrt(sample_size))\n",
        "z_p_value = 2 * (1 - norm.cdf(abs(z)))\n",
        "\n",
        "# T-test (using sample std)\n",
        "t_stat, t_p_value = ttest_1samp(sample, population_mean)\n",
        "\n",
        "# Output comparison\n",
        "print(\"Z-Test Results:\")\n",
        "print(f\"Z-score: {z:.2f}, P-value: {z_p_value:.4f}\\n\")\n",
        "\n",
        "print(\"T-Test Results:\")\n",
        "print(f\"T-statistic: {t_stat:.2f}, P-value: {t_p_value:.4f}\\n\")\n",
        "\n",
        "# Interpretation\n",
        "alpha = 0.05\n",
        "if z_p_value < alpha:\n",
        "    print(\"Z-test: Reject the null hypothesis\")\n",
        "else:\n",
        "    print(\"Z-test: Fail to reject the null hypothesis\")\n",
        "\n",
        "if t_p_value < alpha:\n",
        "    print(\"T-test: Reject the null hypothesis\")\n",
        "else:\n",
        "    print(\"T-test: Fail to reject the null hypothesis\")"
      ],
      "metadata": {
        "colab": {
          "base_uri": "https://localhost:8080/"
        },
        "id": "ZFWo1cwAvuKK",
        "outputId": "fb814b81-96a8-4a34-e6c0-f0134c0f8b32"
      },
      "execution_count": 12,
      "outputs": [
        {
          "output_type": "stream",
          "name": "stdout",
          "text": [
            "Z-Test Results:\n",
            "Z-score: 1.16, P-value: 0.2459\n",
            "\n",
            "T-Test Results:\n",
            "T-statistic: 1.29, P-value: 0.2075\n",
            "\n",
            "Z-test: Fail to reject the null hypothesis\n",
            "T-test: Fail to reject the null hypothesis\n"
          ]
        }
      ]
    },
    {
      "cell_type": "markdown",
      "source": [
        "#9-Write a Python function to calculate the confidence interval for a sample mean and explain its significance."
      ],
      "metadata": {
        "id": "MZJHD1llv9_S"
      }
    },
    {
      "cell_type": "code",
      "source": [
        "import numpy as np\n",
        "from scipy.stats import t\n",
        "\n",
        "def confidence_interval(data, confidence=0.95):\n",
        "    n = len(data)\n",
        "    mean = np.mean(data)\n",
        "    std_err = np.std(data, ddof=1) / np.sqrt(n)\n",
        "    t_crit = t.ppf((1 + confidence) / 2, df=n-1)\n",
        "    margin = t_crit * std_err\n",
        "    lower = mean - margin\n",
        "    upper = mean + margin\n",
        "    return (lower, upper)\n",
        "\n",
        "# Example usage\n",
        "sample = np.random.normal(loc=50, scale=5, size=30)\n",
        "ci = confidence_interval(sample)\n",
        "print(f\"95% Confidence Interval: ({ci[0]:.2f}, {ci[1]:.2f})\")"
      ],
      "metadata": {
        "colab": {
          "base_uri": "https://localhost:8080/"
        },
        "id": "Xsp6E5g4wL6m",
        "outputId": "d63ae96f-fe6c-4078-e489-b649b3e3b88b"
      },
      "execution_count": 13,
      "outputs": [
        {
          "output_type": "stream",
          "name": "stdout",
          "text": [
            "95% Confidence Interval: (47.66, 51.13)\n"
          ]
        }
      ]
    },
    {
      "cell_type": "markdown",
      "source": [
        "#10- Write a Python program to calculate the margin of error for a given confidence level using sample data."
      ],
      "metadata": {
        "id": "W_33TqrgwfWI"
      }
    },
    {
      "cell_type": "code",
      "source": [
        "import numpy as np\n",
        "from scipy.stats import t\n",
        "\n",
        "def margin_of_error(data, confidence=0.95):\n",
        "    n = len(data)\n",
        "    std_err = np.std(data, ddof=1) / np.sqrt(n)\n",
        "    t_crit = t.ppf((1 + confidence) / 2, df=n-1)\n",
        "    moe = t_crit * std_err\n",
        "    return moe\n",
        "\n",
        "# Example usage\n",
        "sample = np.random.normal(loc=50, scale=5, size=30)\n",
        "moe = margin_of_error(sample)\n",
        "print(f\"Margin of Error (95% confidence): ±{moe:.2f}\")"
      ],
      "metadata": {
        "colab": {
          "base_uri": "https://localhost:8080/"
        },
        "id": "ayp2KMWhwjZ5",
        "outputId": "03fc7334-09b7-49b3-807b-2516f36964ea"
      },
      "execution_count": 14,
      "outputs": [
        {
          "output_type": "stream",
          "name": "stdout",
          "text": [
            "Margin of Error (95% confidence): ±1.85\n"
          ]
        }
      ]
    },
    {
      "cell_type": "markdown",
      "source": [
        "#11- Implement a Bayesian inference method using Bayes' Theorem in Python and explain the process\n"
      ],
      "metadata": {
        "id": "bspL2M6gwwrv"
      }
    },
    {
      "cell_type": "code",
      "source": [
        "def bayes_theorem(prior, likelihood, evidence):\n",
        "    \"\"\"\n",
        "    Calculate posterior probability using Bayes' Theorem.\n",
        "\n",
        "    Parameters:\n",
        "    prior: float, prior probability of hypothesis (P(H))\n",
        "    likelihood: float, probability of evidence given hypothesis (P(E|H))\n",
        "    evidence: float, total probability of evidence (P(E))\n",
        "\n",
        "    Returns:\n",
        "    posterior: float, posterior probability (P(H|E))\n",
        "    \"\"\"\n",
        "    posterior = (likelihood * prior) / evidence\n",
        "    return posterior\n",
        "\n",
        "\n",
        "prior = 0.01       # P(Disease) = 1%\n",
        "likelihood = 0.95   # P(Test Positive | Disease) = 95%\n",
        "p_not_disease = 0.99  # P(No Disease) = 99%\n",
        "false_positive = 0.10  # P(Test Positive | No Disease) = 10%\n",
        "\n",
        "# Calculate P(Test Positive) using total probability\n",
        "evidence = (likelihood * prior) + (false_positive * p_not_disease)\n",
        "\n",
        "# Calculate posterior probability\n",
        "posterior = bayes_theorem(prior, likelihood, evidence)\n",
        "\n",
        "print(f\"Prior probability of disease: {prior:.2%}\")\n",
        "print(f\"Likelihood of positive test given disease: {likelihood:.2%}\")\n",
        "print(f\"Probability of positive test (evidence): {evidence:.2%}\")\n",
        "print(f\"Posterior probability of disease given positive test: {posterior:.2%}\")"
      ],
      "metadata": {
        "colab": {
          "base_uri": "https://localhost:8080/"
        },
        "id": "_qHKwzpfwzaN",
        "outputId": "ab4e0863-2166-48a8-ca8d-b0cd91dec742"
      },
      "execution_count": 15,
      "outputs": [
        {
          "output_type": "stream",
          "name": "stdout",
          "text": [
            "Prior probability of disease: 1.00%\n",
            "Likelihood of positive test given disease: 95.00%\n",
            "Probability of positive test (evidence): 10.85%\n",
            "Posterior probability of disease given positive test: 8.76%\n"
          ]
        }
      ]
    },
    {
      "cell_type": "markdown",
      "source": [
        "#11- Implement a Bayesian inference method using Bayes' Theorem in Python and explain the process."
      ],
      "metadata": {
        "id": "zg8VvBU6xdIR"
      }
    },
    {
      "cell_type": "code",
      "source": [
        "def bayes_theorem(prior, likelihood, evidence):\n",
        "    \"\"\"\n",
        "    Calculate posterior probability using Bayes' Theorem.\n",
        "\n",
        "    Parameters:\n",
        "    prior: float, P(H) - prior probability of hypothesis\n",
        "    likelihood: float, P(E|H) - probability of evidence given hypothesis\n",
        "    evidence: float, P(E) - total probability of evidence\n",
        "\n",
        "    Returns:\n",
        "    posterior: float, P(H|E) - posterior probability\n",
        "    \"\"\"\n",
        "    posterior = (likelihood * prior) / evidence\n",
        "    return posterior\n",
        "\n",
        "# Example: Rain prediction based on cloudy sky\n",
        "prior = 0.3         # P(Rain) = 30%\n",
        "likelihood = 0.8    # P(Cloudy | Rain) = 80%\n",
        "p_no_rain = 0.7    # P(No Rain) = 70%\n",
        "p_cloudy_no_rain = 0.2  # P(Cloudy | No Rain) = 20%\n",
        "\n",
        "# Calculate P(Cloudy) using total probability\n",
        "evidence = (likelihood * prior) + (p_cloudy_no_rain * p_no_rain)\n",
        "\n",
        "# Calculate posterior probability\n",
        "posterior = bayes_theorem(prior, likelihood, evidence)\n",
        "\n",
        "print(f\"Prior probability of rain: {prior:.0%}\")\n",
        "print(f\"Probability of cloudy given rain: {likelihood:.0%}\")\n",
        "print(f\"Probability of cloudy (evidence): {evidence:.0%}\")\n",
        "print(f\"Probability of rain given cloudy: {posterior:.0%}\")"
      ],
      "metadata": {
        "colab": {
          "base_uri": "https://localhost:8080/"
        },
        "id": "D9pGuXpyxf1y",
        "outputId": "e3d4feea-8214-4553-ecaa-ff7e5b76ed33"
      },
      "execution_count": 16,
      "outputs": [
        {
          "output_type": "stream",
          "name": "stdout",
          "text": [
            "Prior probability of rain: 30%\n",
            "Probability of cloudy given rain: 80%\n",
            "Probability of cloudy (evidence): 38%\n",
            "Probability of rain given cloudy: 63%\n"
          ]
        }
      ]
    },
    {
      "cell_type": "markdown",
      "source": [
        "#12-Perform a Chi-square test for independence between two categorical variables in Python"
      ],
      "metadata": {
        "id": "iaG8Jdg7x5sS"
      }
    },
    {
      "cell_type": "code",
      "source": [
        "import numpy as np\n",
        "from scipy.stats import chi2_contingency\n",
        "\n",
        "def chi_square_test(data):\n",
        "    \"\"\"\n",
        "    Perform Chi-square test for independence on a contingency table.\n",
        "\n",
        "    Parameters:\n",
        "    data: 2D numpy array, contingency table\n",
        "\n",
        "    Returns:\n",
        "    chi2_stat: float, Chi-square statistic\n",
        "    p_value: float, p-value of the test\n",
        "    \"\"\"\n",
        "    chi2_stat, p_value, dof, expected = chi2_contingency(data)\n",
        "\n",
        "    print(\"Chi-square Test Results:\")\n",
        "    print(f\"Chi-square Statistic: {chi2_stat:.2f}\")\n",
        "    print(f\"P-value: {p_value:.4f}\")\n",
        "    print(f\"Degrees of Freedom: {dof}\")\n",
        "\n",
        "    if p_value < 0.05:\n",
        "        print(\"Significant association (reject null hypothesis)\")\n",
        "    else:\n",
        "        print(\"No significant association (fail to reject null hypothesis)\")\n",
        "\n",
        "    return chi2_stat, p_value\n",
        "\n",
        "# Gender vs. Preference (e.g., product choice)\n",
        "data = np.array([[30, 20],  # Male: [Prefers A, Prefers B]\n",
        "                 [10, 40]]) # Female: [Prefers A, Prefers B]\n",
        "\n",
        "chi_square_test(data)"
      ],
      "metadata": {
        "colab": {
          "base_uri": "https://localhost:8080/"
        },
        "id": "Zq7IGUiMyIbx",
        "outputId": "fe8e056e-5b01-467a-8b12-c0b3bac57902"
      },
      "execution_count": 17,
      "outputs": [
        {
          "output_type": "stream",
          "name": "stdout",
          "text": [
            "Chi-square Test Results:\n",
            "Chi-square Statistic: 15.04\n",
            "P-value: 0.0001\n",
            "Degrees of Freedom: 1\n",
            "Significant association (reject null hypothesis)\n"
          ]
        },
        {
          "output_type": "execute_result",
          "data": {
            "text/plain": [
              "(np.float64(15.041666666666668), np.float64(0.00010516355403363114))"
            ]
          },
          "metadata": {},
          "execution_count": 17
        }
      ]
    },
    {
      "cell_type": "markdown",
      "source": [
        "#13- Write a Python program to calculate the expected frequencies for a Chi-square test based on observed data"
      ],
      "metadata": {
        "id": "HzYibmKAyUNk"
      }
    },
    {
      "cell_type": "code",
      "source": [
        "import numpy as np\n",
        "\n",
        "def calc_expected_frequencies(observed):\n",
        "    \"\"\"\n",
        "    Calculate expected frequencies for a Chi-square test.\n",
        "\n",
        "    Parameters:\n",
        "    observed: 2D numpy array, contingency table of observed frequencies\n",
        "\n",
        "    Returns:\n",
        "    expected: 2D numpy array, expected frequencies\n",
        "    \"\"\"\n",
        "    # Calculate row and column totals\n",
        "    row_totals = np.sum(observed, axis=1)\n",
        "    col_totals = np.sum(observed, axis=0)\n",
        "    grand_total = np.sum(observed)\n",
        "\n",
        "    # Calculate expected frequencies: (row_total * col_total) / grand_total\n",
        "    expected = np.outer(row_totals, col_totals) / grand_total\n",
        "\n",
        "    # Print results\n",
        "    print(\"Observed Frequencies:\")\n",
        "    print(observed)\n",
        "    print(\"\\nExpected Frequencies:\")\n",
        "    print(np.round(expected, 2))\n",
        "\n",
        "    return expected\n",
        "\n",
        "#  Contingency table (e.g., Gender vs. Preference)\n",
        "observed = np.array([[30, 20],  # Male: [Prefers A, Prefers B]\n",
        "                     [10, 40]]) # Female: [Prefers A, Prefers B]\n",
        "\n",
        "calc_expected_frequencies(observed)"
      ],
      "metadata": {
        "colab": {
          "base_uri": "https://localhost:8080/"
        },
        "id": "WNALZZAlyXFH",
        "outputId": "556a42b1-6b7b-44f9-e77b-bc9482730d2c"
      },
      "execution_count": 18,
      "outputs": [
        {
          "output_type": "stream",
          "name": "stdout",
          "text": [
            "Observed Frequencies:\n",
            "[[30 20]\n",
            " [10 40]]\n",
            "\n",
            "Expected Frequencies:\n",
            "[[20. 30.]\n",
            " [20. 30.]]\n"
          ]
        },
        {
          "output_type": "execute_result",
          "data": {
            "text/plain": [
              "array([[20., 30.],\n",
              "       [20., 30.]])"
            ]
          },
          "metadata": {},
          "execution_count": 18
        }
      ]
    },
    {
      "cell_type": "markdown",
      "source": [
        "#14-Perform a goodness-of-fit test using Python to compare the observed data to an expected distribution"
      ],
      "metadata": {
        "id": "hF6BUm-xysst"
      }
    },
    {
      "cell_type": "code",
      "source": [
        "import numpy as np\n",
        "from scipy.stats import chisquare\n",
        "\n",
        "def goodness_of_fit_test(observed, expected):\n",
        "    \"\"\"\n",
        "    Perform Chi-square goodness-of-fit test.\n",
        "\n",
        "    Parameters:\n",
        "    observed: array-like, observed frequencies\n",
        "    expected: array-like, expected frequencies\n",
        "\n",
        "    Returns:\n",
        "    chi2_stat: float, Chi-square statistic\n",
        "    p_value: float, p-value of the test\n",
        "    \"\"\"\n",
        "    chi2_stat, p_value = chisquare(observed, f_exp=expected)\n",
        "\n",
        "    print(\"Goodness-of-Fit Test Results:\")\n",
        "    print(f\"Observed: {observed}\")\n",
        "    print(f\"Expected: {expected}\")\n",
        "    print(f\"Chi-square Statistic: {chi2_stat:.2f}\")\n",
        "    print(f\"P-value: {p_value:.4f}\")\n",
        "\n",
        "    if p_value < 0.05:\n",
        "        print(\"Data does not fit the expected distribution (reject null hypothesis)\")\n",
        "    else:\n",
        "        print(\"Data fits the expected distribution (fail to reject null hypothesis)\")\n",
        "\n",
        "    return chi2_stat, p_value\n",
        "\n",
        "# Example: Testing if a die is fair\n",
        "observed = [20, 15, 18, 22, 17, 28]  # Observed frequencies for 6 sides\n",
        "expected = [20, 20, 20, 20, 20, 20]  # Expected frequencies (fair die, 120 rolls / 6)\n",
        "\n",
        "goodness_of_fit_test(observed, expected)"
      ],
      "metadata": {
        "colab": {
          "base_uri": "https://localhost:8080/"
        },
        "id": "4ilJ6HFiyykv",
        "outputId": "824dee1d-efa8-4f23-bfcf-28b1f0fcc96a"
      },
      "execution_count": 19,
      "outputs": [
        {
          "output_type": "stream",
          "name": "stdout",
          "text": [
            "Goodness-of-Fit Test Results:\n",
            "Observed: [20, 15, 18, 22, 17, 28]\n",
            "Expected: [20, 20, 20, 20, 20, 20]\n",
            "Chi-square Statistic: 5.30\n",
            "P-value: 0.3804\n",
            "Data fits the expected distribution (fail to reject null hypothesis)\n"
          ]
        },
        {
          "output_type": "execute_result",
          "data": {
            "text/plain": [
              "(np.float64(5.300000000000001), np.float64(0.38037503234347064))"
            ]
          },
          "metadata": {},
          "execution_count": 19
        }
      ]
    },
    {
      "cell_type": "markdown",
      "source": [
        "#15-Create a Python script to simulate and visualize the Chi-square distribution and discuss its characteristics"
      ],
      "metadata": {
        "id": "rhMzy0aGzEDb"
      }
    },
    {
      "cell_type": "code",
      "source": [
        "import numpy as np\n",
        "import matplotlib.pyplot as plt\n",
        "from scipy.stats import chi2\n",
        "\n",
        "def plot_chi_square(df, samples=10000):\n",
        "    \"\"\"\n",
        "    Simulate and visualize the Chi-square distribution.\n",
        "\n",
        "    Parameters:\n",
        "    df: int, degrees of freedom\n",
        "    samples: int, number of samples to simulate\n",
        "    \"\"\"\n",
        "    # Simulate Chi-square distribution\n",
        "    data = np.random.chisquare(df, samples)\n",
        "\n",
        "    # Create histogram of simulated data\n",
        "    plt.hist(data, bins=50, density=True, alpha=0.6, label='Simulated')\n",
        "\n",
        "    # Plot theoretical Chi-square PDF\n",
        "    x = np.linspace(0, max(data), 100)\n",
        "    plt.plot(x, chi2.pdf(x, df), 'r-', label='Theoretical')\n",
        "\n",
        "    # Customize plot\n",
        "    plt.title(f'Chi-square Distribution (df={df})')\n",
        "    plt.xlabel('Value')\n",
        "    plt.ylabel('Density')\n",
        "    plt.legend()\n",
        "    plt.grid(True, alpha=0.3)\n",
        "    plt.show()\n",
        "\n",
        "# Example: Visualize Chi-square with 5 degrees of freedom\n",
        "plot_chi_square(df=5)"
      ],
      "metadata": {
        "colab": {
          "base_uri": "https://localhost:8080/",
          "height": 472
        },
        "id": "RqhQYNMezUV8",
        "outputId": "7cbae084-bf31-4bea-de64-993cefe8bd40"
      },
      "execution_count": 20,
      "outputs": [
        {
          "output_type": "display_data",
          "data": {
            "text/plain": [
              "<Figure size 640x480 with 1 Axes>"
            ],
            "image/png": "[encoded data removed]"
          },
          "metadata": {}
        }
      ]
    },
    {
      "cell_type": "markdown",
      "source": [
        "#16-Implement an F-test using Python to compare the variances of two random samples."
      ],
      "metadata": {
        "id": "x_5TAlGozak6"
      }
    },
    {
      "cell_type": "code",
      "source": [
        "import numpy as np\n",
        "from scipy.stats import f\n",
        "\n",
        "def f_test(sample1, sample2):\n",
        "    \"\"\"\n",
        "    Perform F-test to compare variances of two samples.\n",
        "\n",
        "    Parameters:\n",
        "    sample1: array-like, first sample data\n",
        "    sample2: array-like, second sample data\n",
        "\n",
        "    Returns:\n",
        "    f_stat: float, F-test statistic\n",
        "    p_value: float, p-value of the test\n",
        "    \"\"\"\n",
        "    # Calculate variances\n",
        "    var1 = np.var(sample1, ddof=1)\n",
        "    var2 = np.var(sample2, ddof=1)\n",
        "\n",
        "    # F-statistic: larger variance / smaller variance\n",
        "    f_stat = var1 / var2 if var1 > var2 else var2 / var1\n",
        "\n",
        "    # Degrees of freedom\n",
        "    df1 = len(sample1) - 1\n",
        "    df2 = len(sample2) - 1\n",
        "\n",
        "    # Two-tailed p-value\n",
        "    p_value = 2 * (1 - f.cdf(f_stat, df1, df2))\n",
        "    if p_value > 1:\n",
        "        p_value = 2 * f.cdf(f_stat, df1, df2)\n",
        "\n",
        "    # Print results\n",
        "    print(\"F-test Results:\")\n",
        "    print(f\"Variance of Sample 1: {var1:.2f}\")\n",
        "    print(f\"Variance of Sample 2: {var2:.2f}\")\n",
        "    print(f\"F-statistic: {f_stat:.2f}\")\n",
        "    print(f\"P-value: {p_value:.4f}\")\n",
        "\n",
        "    if p_value < 0.05:\n",
        "        print(\"Variances are significantly different (reject null hypothesis)\")\n",
        "    else:\n",
        "        print(\"No significant difference in variances (fail to reject null hypothesis)\")\n",
        "\n",
        "    return f_stat, p_value\n",
        "\n",
        "# Example\n",
        "np.random.seed(42)\n",
        "sample1 = np.random.normal(0, 2, 30)  # Mean=0, std=2\n",
        "sample2 = np.random.normal(0, 3, 30)  # Mean=0, std=3\n",
        "\n",
        "f_test(sample1, sample2)"
      ],
      "metadata": {
        "colab": {
          "base_uri": "https://localhost:8080/"
        },
        "id": "zGxHsNjqzdHG",
        "outputId": "cd4409ba-f565-4415-93db-0ad3b527c456"
      },
      "execution_count": 21,
      "outputs": [
        {
          "output_type": "stream",
          "name": "stdout",
          "text": [
            "F-test Results:\n",
            "Variance of Sample 1: 3.24\n",
            "Variance of Sample 2: 7.80\n",
            "F-statistic: 2.41\n",
            "P-value: 0.0209\n",
            "Variances are significantly different (reject null hypothesis)\n"
          ]
        },
        {
          "output_type": "execute_result",
          "data": {
            "text/plain": [
              "(np.float64(2.4081636671276785), np.float64(0.02087559545078621))"
            ]
          },
          "metadata": {},
          "execution_count": 21
        }
      ]
    },
    {
      "cell_type": "markdown",
      "source": [
        "#17- Write a Python program to perform an ANOVA test to compare means between multiple groups and interpret the results"
      ],
      "metadata": {
        "id": "Z89hX3WHzqDf"
      }
    },
    {
      "cell_type": "code",
      "source": [
        "import numpy as np\n",
        "from scipy.stats import f_oneway\n",
        "\n",
        "def anova_test(*groups):\n",
        "    \"\"\"\n",
        "    Perform one-way ANOVA test to compare means of multiple groups.\n",
        "\n",
        "    Parameters:\n",
        "    groups: variable number of array-like, data for each group\n",
        "\n",
        "    Returns:\n",
        "    f_stat: float, ANOVA F-statistic\n",
        "    p_value: float, p-value of the test\n",
        "    \"\"\"\n",
        "    # Perform ANOVA\n",
        "    f_stat, p_value = f_oneway(*groups)\n",
        "\n",
        "    # Calculate group means\n",
        "    means = [np.mean(group) for group in groups]\n",
        "\n",
        "    # Print results\n",
        "    print(\"ANOVA Test Results:\")\n",
        "    for i, mean in enumerate(means, 1):\n",
        "        print(f\"Group {i} Mean: {mean:.2f}\")\n",
        "    print(f\"F-statistic: {f_stat:.2f}\")\n",
        "    print(f\"P-value: {p_value:.4f}\")\n",
        "\n",
        "    # Interpret results\n",
        "    print(\"\\nInterpretation:\")\n",
        "    if p_value < 0.05:\n",
        "        print(\"Significant difference between group means (reject null hypothesis)\")\n",
        "    else:\n",
        "        print(\"No significant difference between group means (fail to reject null hypothesis)\")\n",
        "\n",
        "    return f_stat, p_value\n",
        "\n",
        "# Example: Comparing test scores of three groups\n",
        "np.random.seed(42)\n",
        "group1 = np.random.normal(70, 10, 20)  # Group 1: mean ~70\n",
        "group2 = np.random.normal(75, 10, 20)  # Group 2: mean ~75\n",
        "group3 = np.random.normal(80, 10, 20)  # Group 3: mean ~80\n",
        "\n",
        "anova_test(group1, group2, group3)"
      ],
      "metadata": {
        "colab": {
          "base_uri": "https://localhost:8080/"
        },
        "id": "xsgEMNZozxxS",
        "outputId": "84d63640-cb48-4f6b-f18e-0ae6e825b090"
      },
      "execution_count": 22,
      "outputs": [
        {
          "output_type": "stream",
          "name": "stdout",
          "text": [
            "ANOVA Test Results:\n",
            "Group 1 Mean: 68.29\n",
            "Group 2 Mean: 72.34\n",
            "Group 3 Mean: 79.73\n",
            "F-statistic: 7.98\n",
            "P-value: 0.0009\n",
            "\n",
            "Interpretation:\n",
            "Significant difference between group means (reject null hypothesis)\n"
          ]
        },
        {
          "output_type": "execute_result",
          "data": {
            "text/plain": [
              "(np.float64(7.9799465462672625), np.float64(0.0008801040135250596))"
            ]
          },
          "metadata": {},
          "execution_count": 22
        }
      ]
    },
    {
      "cell_type": "markdown",
      "source": [
        "#17-Write a Python program to perform an ANOVA test to compare means between multiple groups and interpret the results"
      ],
      "metadata": {
        "id": "v4rNlkNK0Asw"
      }
    },
    {
      "cell_type": "code",
      "source": [
        "from scipy.stats import f_oneway\n",
        "\n",
        "def simple_anova(*groups):\n",
        "    \"\"\"\n",
        "    Perform one-way ANOVA test to compare means of multiple groups.\n",
        "\n",
        "    Parameters:\n",
        "    groups: variable number of array-like, data for each group\n",
        "\n",
        "    Returns:\n",
        "    f_stat: float, F-statistic\n",
        "    p_value: float, p-value\n",
        "    \"\"\"\n",
        "    f_stat, p_value = f_oneway(*groups)\n",
        "\n",
        "    print(\"ANOVA Results:\")\n",
        "    print(f\"F-statistic: {f_stat:.2f}\")\n",
        "    print(f\"P-value: {p_value:.4f}\")\n",
        "\n",
        "    if p_value < 0.05:\n",
        "        print(\"Significant difference in means (reject null)\")\n",
        "    else:\n",
        "        print(\"No significant difference in means (fail to reject null)\")\n",
        "\n",
        "    return f_stat, p_value\n",
        "\n",
        "# Example: Three groups of test scores\n",
        "group1 = [85, 90, 88, 92, 87]\n",
        "group2 = [78, 80, 82, 79, 81]\n",
        "group3 = [95, 93, 97, 94, 96]\n",
        "\n",
        "simple_anova(group1, group2, group3)"
      ],
      "metadata": {
        "colab": {
          "base_uri": "https://localhost:8080/"
        },
        "id": "BgHa6phj0N-i",
        "outputId": "c026461f-29a8-4c69-8936-1f56f0059025"
      },
      "execution_count": 23,
      "outputs": [
        {
          "output_type": "stream",
          "name": "stdout",
          "text": [
            "ANOVA Results:\n",
            "F-statistic: 68.93\n",
            "P-value: 0.0000\n",
            "Significant difference in means (reject null)\n"
          ]
        },
        {
          "output_type": "execute_result",
          "data": {
            "text/plain": [
              "(np.float64(68.92682926829295), np.float64(2.6368375488638467e-07))"
            ]
          },
          "metadata": {},
          "execution_count": 23
        }
      ]
    },
    {
      "cell_type": "markdown",
      "source": [
        "#18- Perform a one-way ANOVA test using Python to compare the means of different groups and plot the results,"
      ],
      "metadata": {
        "id": "5e-ipzKu0iWC"
      }
    },
    {
      "cell_type": "code",
      "source": [
        "import numpy as np\n",
        "from scipy.stats import f_oneway\n",
        "import matplotlib.pyplot as plt\n",
        "\n",
        "def anova_and_plot(*groups, group_names=None):\n",
        "    \"\"\"\n",
        "    Perform one-way ANOVA and plot boxplot for group comparison.\n",
        "\n",
        "    Parameters:\n",
        "    groups: variable number of array-like, data for each group\n",
        "    group_names: list, names for groups (optional)\n",
        "    \"\"\"\n",
        "    # Perform ANOVA\n",
        "    f_stat, p_value = f_oneway(*groups)\n",
        "\n",
        "    # Print results\n",
        "    print(\"One-way ANOVA Results:\")\n",
        "    print(f\"F-statistic: {f_stat:.2f}\")\n",
        "    print(f\"P-value: {p_value:.4f}\")\n",
        "    print(\"\\nInterpretation:\")\n",
        "    if p_value < 0.05:\n",
        "        print(\"Significant difference between group means (reject null hypothesis)\")\n",
        "    else:\n",
        "        print(\"No significant difference between group means (fail to reject null)\")\n",
        "\n",
        "    # Plot boxplot\n",
        "    plt.boxplot(groups, labels=group_names or [f\"Group {i+1}\" for i in range(len(groups))])\n",
        "    plt.title(\"Boxplot of Group Means\")\n",
        "    plt.ylabel(\"Values\")\n",
        "    plt.grid(True, alpha=0.3)\n",
        "    plt.show()\n",
        "\n",
        "\n",
        "np.random.seed(42)\n",
        "group1 = np.random.normal(70, 5, 20)  # Mean ~70\n",
        "group2 = np.random.normal(75, 5, 20)  # Mean ~75\n",
        "group3 = np.random.normal(80, 5, 20)  # Mean ~80\n",
        "\n",
        "anova_and_plot(group1, group2, group3, group_names=[\"Class A\", \"Class B\", \"Class C\"])"
      ],
      "metadata": {
        "colab": {
          "base_uri": "https://localhost:8080/",
          "height": 611
        },
        "id": "DktFUS7a0tTe",
        "outputId": "baa853b7-1569-44e3-af69-ba3198ad8340"
      },
      "execution_count": 24,
      "outputs": [
        {
          "output_type": "stream",
          "name": "stdout",
          "text": [
            "One-way ANOVA Results:\n",
            "F-statistic: 27.46\n",
            "P-value: 0.0000\n",
            "\n",
            "Interpretation:\n",
            "Significant difference between group means (reject null hypothesis)\n"
          ]
        },
        {
          "output_type": "stream",
          "name": "stderr",
          "text": [
            "<ipython-input-24-3ffc95dd8d58>:27: MatplotlibDeprecationWarning: The 'labels' parameter of boxplot() has been renamed 'tick_labels' since Matplotlib 3.9; support for the old name will be dropped in 3.11.\n",
            "  plt.boxplot(groups, labels=group_names or [f\"Group {i+1}\" for i in range(len(groups))])\n"
          ]
        },
        {
          "output_type": "display_data",
          "data": {
            "text/plain": [
              "<Figure size 640x480 with 1 Axes>"
            ],
            "image/png": "[encoded data removed]"
          },
          "metadata": {}
        }
      ]
    },
    {
      "cell_type": "markdown",
      "source": [
        "#19-Write a Python function to check the assumptions (normality, independence, and equal variance) for ANOVA"
      ],
      "metadata": {
        "id": "ulmsbUEI0-rL"
      }
    },
    {
      "cell_type": "code",
      "source": [
        "import numpy as np\n",
        "from scipy.stats import shapiro, levene\n",
        "import warnings\n",
        "\n",
        "def check_anova_assumptions(*groups):\n",
        "    \"\"\"\n",
        "    Check ANOVA assumptions: normality, independence, and equal variance.\n",
        "\n",
        "    Parameters:\n",
        "    groups: variable number of array-like, data for each group\n",
        "    \"\"\"\n",
        "    print(\"Checking ANOVA Assumptions:\")\n",
        "\n",
        "    # 1. Normality (Shapiro-Wilk test for each group)\n",
        "    print(\"\\n1. Normality (Shapiro-Wilk Test):\")\n",
        "    for i, group in enumerate(groups, 1):\n",
        "        stat, p = shapiro(group)\n",
        "        print(f\"Group {i}: p-value = {p:.4f}\",\n",
        "              \"Normal\" if p > 0.05 else \"Not Normal\")\n",
        "\n",
        "    # 2. Equal Variance (Levene's test)\n",
        "    print(\"\\n2. Equal Variance (Levene's Test):\")\n",
        "    stat, p = levene(*groups)\n",
        "    print(f\"p-value = {p:.4f}\",\n",
        "          \"Equal Variances\" if p > 0.05 else \"Unequal Variances\")\n",
        "\n",
        "    # 3. Independence\n",
        "    print(\"\\n3. Independence:\")\n",
        "    print(\"Cannot test directly. Ensure data collection was randomized and groups are independent.\")\n",
        "\n",
        "    # Summary\n",
        "    print(\"\\nSummary:\")\n",
        "    normal = all(shapiro(group)[1] > 0.05 for group in groups)\n",
        "    equal_var = levene(*groups)[1] > 0.05\n",
        "    if normal and equal_var:\n",
        "        print(\"Assumptions met (normal data, equal variances). ANOVA is appropriate.\")\n",
        "    else:\n",
        "        print(\"Assumptions violated. Consider non-parametric tests (e.g., Kruskal-Wallis).\")\n",
        "\n",
        "\n",
        "np.random.seed(42)\n",
        "group1 = np.random.normal(70, 5, 20)\n",
        "group2 = np.random.normal(75, 5, 20)\n",
        "group3 = np.random.normal(80, 5, 20)\n",
        "\n",
        "check_anova_assumptions(group1, group2, group3)"
      ],
      "metadata": {
        "colab": {
          "base_uri": "https://localhost:8080/"
        },
        "id": "JIYnDjNd1GXB",
        "outputId": "fd25f679-149b-4920-f3e6-772c12b24bf0"
      },
      "execution_count": 25,
      "outputs": [
        {
          "output_type": "stream",
          "name": "stdout",
          "text": [
            "Checking ANOVA Assumptions:\n",
            "\n",
            "1. Normality (Shapiro-Wilk Test):\n",
            "Group 1: p-value = 0.8479 Normal\n",
            "Group 2: p-value = 0.7676 Normal\n",
            "Group 3: p-value = 0.3271 Normal\n",
            "\n",
            "2. Equal Variance (Levene's Test):\n",
            "p-value = 0.8922 Equal Variances\n",
            "\n",
            "3. Independence:\n",
            "Cannot test directly. Ensure data collection was randomized and groups are independent.\n",
            "\n",
            "Summary:\n",
            "Assumptions met (normal data, equal variances). ANOVA is appropriate.\n"
          ]
        }
      ]
    },
    {
      "cell_type": "markdown",
      "source": [
        "#20-Perform a two-way ANOVA test using Python to study the interaction between two factors and visualize the results"
      ],
      "metadata": {
        "id": "vcJ0gNrC1UE6"
      }
    },
    {
      "cell_type": "code",
      "source": [
        "import numpy as np\n",
        "import pandas as pd\n",
        "import statsmodels.api as sm\n",
        "from statsmodels.formula.api import ols\n",
        "import matplotlib.pyplot as plt\n",
        "import seaborn as sns\n",
        "\n",
        "def two_way_anova_and_plot(data, factor1, factor2, response):\n",
        "    \"\"\"\n",
        "    Perform two-way ANOVA and plot interaction effects.\n",
        "\n",
        "    Parameters:\n",
        "    data: DataFrame, contains factors and response\n",
        "    factor1: str, name of first factor column\n",
        "    factor2: str, name of second factor column\n",
        "    response: str, name of response column\n",
        "    \"\"\"\n",
        "    # Two-way ANOVA\n",
        "    formula = f'{response} ~ C({factor1}) + C({factor2}) + C({factor1}):C({factor2})'\n",
        "    model = ols(formula, data).fit()\n",
        "    anova_table = sm.stats.anova_lm(model, typ=2)\n",
        "\n",
        "    # Print results\n",
        "    print(\"Two-way ANOVA Results:\")\n",
        "    print(anova_table.round(4))\n",
        "    print(\"\\nInterpretation:\")\n",
        "    for index in anova_table.index:\n",
        "        p = anova_table.loc[index, 'PR(>F)']\n",
        "        print(f\"{index}: {'Significant' if p < 0.05 else 'Not Significant'} (p={p:.4f})\")\n",
        "\n",
        "    # Interaction plot\n",
        "    sns.pointplot(x=factor1, y=response, hue=factor2, data=data, markers='o', linestyles='-')\n",
        "    plt.title('Interaction Plot')\n",
        "    plt.xlabel(factor1)\n",
        "    plt.ylabel(response)\n",
        "    plt.grid(True, alpha=0.3)\n",
        "    plt.show()\n",
        "\n",
        "# Example: Effect of Diet and Exercise on Weight Loss\n",
        "np.random.seed(42)\n",
        "data = pd.DataFrame({\n",
        "    'Diet': np.repeat(['Low-Carb', 'Low-Fat'], 20),\n",
        "    'Exercise': np.tile(np.repeat(['None', 'High'], 10), 2),\n",
        "    'WeightLoss': np.concatenate([\n",
        "        np.random.normal(5, 1, 10),   # Low-Carb, None\n",
        "        np.random.normal(8, 1, 10),   # Low-Carb, High\n",
        "        np.random.normal(4, 1, 10),   # Low-Fat, None\n",
        "        np.random.normal(6, 1, 10)    # Low-Fat, High\n",
        "    ])\n",
        "})\n",
        "\n",
        "two_way_anova_and_plot(data, 'Diet', 'Exercise', 'WeightLoss')"
      ],
      "metadata": {
        "colab": {
          "base_uri": "https://localhost:8080/",
          "height": 680
        },
        "id": "KBWgIbtg1akQ",
        "outputId": "80025828-0217-44c6-8065-d6e7d4984e26"
      },
      "execution_count": 26,
      "outputs": [
        {
          "output_type": "stream",
          "name": "stdout",
          "text": [
            "Two-way ANOVA Results:\n",
            "                      sum_sq    df        F  PR(>F)\n",
            "C(Diet)              25.4299   1.0  33.1632  0.0000\n",
            "C(Exercise)          33.7276   1.0  43.9842  0.0000\n",
            "C(Diet):C(Exercise)   0.0566   1.0   0.0738  0.7874\n",
            "Residual             27.6052  36.0      NaN     NaN\n",
            "\n",
            "Interpretation:\n",
            "C(Diet): Significant (p=0.0000)\n",
            "C(Exercise): Significant (p=0.0000)\n",
            "C(Diet):C(Exercise): Not Significant (p=0.7874)\n",
            "Residual: Not Significant (p=nan)\n"
          ]
        },
        {
          "output_type": "display_data",
          "data": {
            "text/plain": [
              "<Figure size 640x480 with 1 Axes>"
            ],
            "image/png": "[encoded data removed]"
          },
          "metadata": {}
        }
      ]
    },
    {
      "cell_type": "markdown",
      "source": [
        "#21- Write a Python program to visualize the F-distribution and discuss its use in hypothesis testing"
      ],
      "metadata": {
        "id": "--Rq5q_41tM8"
      }
    },
    {
      "cell_type": "code",
      "source": [
        "import numpy as np\n",
        "import matplotlib.pyplot as plt\n",
        "from scipy.stats import f\n",
        "\n",
        "def plot_f_distribution(dfn, dfd, x_max=5):\n",
        "    \"\"\"\n",
        "    Visualize the F-distribution.\n",
        "\n",
        "    Parameters:\n",
        "    dfn: int, numerator degrees of freedom\n",
        "    dfd: int, denominator degrees of freedom\n",
        "    x_max: float, max x-axis value for plot\n",
        "    \"\"\"\n",
        "    # Generate x values\n",
        "    x = np.linspace(0, x_max, 1000)\n",
        "\n",
        "    # Calculate F-distribution PDF\n",
        "    y = f.pdf(x, dfn, dfd)\n",
        "\n",
        "    # Plot\n",
        "    plt.plot(x, y, 'b-', label=f'F({dfn}, {dfd})')\n",
        "    plt.title(f'F-Distribution (dfn={dfn}, dfd={dfd})')\n",
        "    plt.xlabel('F Value')\n",
        "    plt.ylabel('Density')\n",
        "    plt.grid(True, alpha=0.3)\n",
        "    plt.legend()\n",
        "    plt.show()\n",
        "\n",
        "# Example: Visualize F-distribution with dfn=5, dfd=10\n",
        "plot_f_distribution(dfn=5, dfd=10)"
      ],
      "metadata": {
        "colab": {
          "base_uri": "https://localhost:8080/",
          "height": 472
        },
        "id": "IPLn8olM1ylc",
        "outputId": "55f0a777-9b45-4e2b-bb73-9c6076c09af1"
      },
      "execution_count": 27,
      "outputs": [
        {
          "output_type": "display_data",
          "data": {
            "text/plain": [
              "<Figure size 640x480 with 1 Axes>"
            ],
            "image/png": "[encoded data removed]"
          },
          "metadata": {}
        }
      ]
    },
    {
      "cell_type": "markdown",
      "source": [
        "#22-Perform a one-way ANOVA test in Python and visualize the results with boxplots to compare group means."
      ],
      "metadata": {
        "id": "nmrPhhgn2APy"
      }
    },
    {
      "cell_type": "code",
      "source": [
        "from scipy.stats import f_oneway\n",
        "import matplotlib.pyplot as plt\n",
        "\n",
        "def anova_and_boxplot(*groups, labels=None):\n",
        "    \"\"\"\n",
        "    Perform one-way ANOVA and create boxplot.\n",
        "\n",
        "    Parameters:\n",
        "    groups: variable number of array-like, data for each group\n",
        "    labels: list, group names (optional)\n",
        "    \"\"\"\n",
        "    # ANOVA test\n",
        "    f_stat, p_value = f_oneway(*groups)\n",
        "\n",
        "    # Print results\n",
        "    print(\"One-way ANOVA Results:\")\n",
        "    print(f\"F-statistic: {f_stat:.2f}\")\n",
        "    print(f\"P-value: {p_value:.4f}\")\n",
        "    print(\"Interpretation:\",\n",
        "          \"Significant difference\" if p_value < 0.05 else \"No significant difference\")\n",
        "\n",
        "    # Boxplot\n",
        "    plt.boxplot(groups, labels=labels or [f\"G{i+1}\" for i in range(len(groups))])\n",
        "    plt.title(\"Boxplot of Group Means\")\n",
        "    plt.ylabel(\"Values\")\n",
        "    plt.grid(True, alpha=0.3)\n",
        "    plt.show()\n",
        "\n",
        "# Example: Scores from three groups\n",
        "group1 = [85, 88, 90, 87, 89]\n",
        "group2 = [78, 80, 79, 82, 81]\n",
        "group3 = [92, 94, 95, 93, 96]\n",
        "\n",
        "anova_and_boxplot(group1, group2, group3, labels=[\"Group A\", \"Group B\", \"Group C\"])"
      ],
      "metadata": {
        "colab": {
          "base_uri": "https://localhost:8080/",
          "height": 576
        },
        "id": "U6faciOW2HOm",
        "outputId": "07fa2c96-fa8f-4fd5-e2c4-65cdb16fe287"
      },
      "execution_count": 28,
      "outputs": [
        {
          "output_type": "stream",
          "name": "stdout",
          "text": [
            "One-way ANOVA Results:\n",
            "F-statistic: 84.85\n",
            "P-value: 0.0000\n",
            "Interpretation: Significant difference\n"
          ]
        },
        {
          "output_type": "stream",
          "name": "stderr",
          "text": [
            "<ipython-input-28-88d6ef6e44dd>:23: MatplotlibDeprecationWarning: The 'labels' parameter of boxplot() has been renamed 'tick_labels' since Matplotlib 3.9; support for the old name will be dropped in 3.11.\n",
            "  plt.boxplot(groups, labels=labels or [f\"G{i+1}\" for i in range(len(groups))])\n"
          ]
        },
        {
          "output_type": "display_data",
          "data": {
            "text/plain": [
              "<Figure size 640x480 with 1 Axes>"
            ],
            "image/png": "[encoded data removed]"
          },
          "metadata": {}
        }
      ]
    },
    {
      "cell_type": "markdown",
      "source": [
        "#23- Simulate random data from a normal distribution, then perform hypothesis testing to evaluate the means."
      ],
      "metadata": {
        "id": "OKQe098f2Shg"
      }
    },
    {
      "cell_type": "code",
      "source": [
        "import numpy as np\n",
        "from scipy.stats import f_oneway\n",
        "\n",
        "def simulate_and_test_anova(n_groups=3, n_samples=20, means=[10, 12, 14], std=2):\n",
        "    \"\"\"\n",
        "    Simulate normal data and perform ANOVA to compare means.\n",
        "\n",
        "    Parameters:\n",
        "    n_groups: int, number of groups\n",
        "    n_samples: int, samples per group\n",
        "    means: list, mean for each group\n",
        "    std: float, standard deviation (same for all groups)\n",
        "    \"\"\"\n",
        "    # Simulate data\n",
        "    np.random.seed(42)\n",
        "    groups = [np.random.normal(loc=mean, scale=std, size=n_samples) for mean in means]\n",
        "\n",
        "    # Perform ANOVA\n",
        "    f_stat, p_value = f_oneway(*groups)\n",
        "\n",
        "    # Print results\n",
        "    print(\"Simulated Data ANOVA Results:\")\n",
        "    for i, group in enumerate(groups, 1):\n",
        "        print(f\"Group {i} Mean: {np.mean(group):.2f}\")\n",
        "    print(f\"F-statistic: {f_stat:.2f}\")\n",
        "    print(f\"P-value: {p_value:.4f}\")\n",
        "    print(\"Interpretation:\",\n",
        "          \"Significant difference\" if p_value < 0.05 else \"No significant difference\")\n",
        "\n",
        "# Example: Simulate 3 groups\n",
        "simulate_and_test_anova()"
      ],
      "metadata": {
        "colab": {
          "base_uri": "https://localhost:8080/"
        },
        "id": "8pdw5cH32cux",
        "outputId": "3e0f6a9a-6777-4802-a870-3a5f02db938c"
      },
      "execution_count": 29,
      "outputs": [
        {
          "output_type": "stream",
          "name": "stdout",
          "text": [
            "Simulated Data ANOVA Results:\n",
            "Group 1 Mean: 9.66\n",
            "Group 2 Mean: 11.47\n",
            "Group 3 Mean: 13.95\n",
            "F-statistic: 27.46\n",
            "P-value: 0.0000\n",
            "Interpretation: Significant difference\n"
          ]
        }
      ]
    },
    {
      "cell_type": "markdown",
      "source": [
        "#24. Perform a hypothesis test for population variance using a Chi-square distribution and interpret the results"
      ],
      "metadata": {
        "id": "wL0QSXOQ2pyg"
      }
    },
    {
      "cell_type": "code",
      "source": [
        "import numpy as np\n",
        "from scipy.stats import chi2\n",
        "\n",
        "def variance_test(sample, hypothesized_var, alpha=0.05):\n",
        "    \"\"\"\n",
        "    Perform Chi-square test for population variance.\n",
        "\n",
        "    Parameters:\n",
        "    sample: array-like, sample data\n",
        "    hypothesized_var: float, hypothesized population variance\n",
        "    alpha: float, significance level (default=0.05)\n",
        "    \"\"\"\n",
        "    # Calculate sample statistics\n",
        "    n = len(sample)\n",
        "    sample_var = np.var(sample, ddof=1)\n",
        "    df = n - 1\n",
        "\n",
        "    # Chi-square statistic\n",
        "    chi2_stat = (n - 1) * sample_var / hypothesized_var\n",
        "\n",
        "    # Two-tailed critical values\n",
        "    chi2_lower = chi2.ppf(alpha / 2, df)\n",
        "    chi2_upper = chi2.ppf(1 - alpha / 2, df)\n",
        "\n",
        "    # Two-tailed p-value\n",
        "    p_value = 2 * min(chi2.cdf(chi2_stat, df), 1 - chi2.cdf(chi2_stat, df))\n",
        "\n",
        "    # Print results\n",
        "    print(\"Chi-square Variance Test Results:\")\n",
        "    print(f\"Sample Variance: {sample_var:.2f}\")\n",
        "    print(f\"Hypothesized Variance: {hypothesized_var:.2f}\")\n",
        "    print(f\"Chi-square Statistic: {chi2_stat:.2f}\")\n",
        "    print(f\"Degrees of Freedom: {df}\")\n",
        "    print(f\"P-value: {p_value:.4f}\")\n",
        "    print(f\"Critical Values (alpha={alpha}): [{chi2_lower:.2f}, {chi2_upper:.2f}]\")\n",
        "\n",
        "    # Interpretation\n",
        "    print(\"\\nInterpretation:\")\n",
        "    if p_value < alpha:\n",
        "        print(\"Reject null hypothesis: Population variance differs significantly.\")\n",
        "    else:\n",
        "        print(\"Fail to reject null hypothesis: No significant difference in variance.\")\n",
        "\n",
        "    return chi2_stat, p_value\n",
        "\n",
        "# Example\n",
        "np.random.seed(42)\n",
        "sample = np.random.normal(0, 2, 30)  # Mean=0, true std=2 (variance=4)\n",
        "hypothesized_var = 4  # H0: population variance = 4\n",
        "\n",
        "variance_test(sample, hypothesized_var)"
      ],
      "metadata": {
        "colab": {
          "base_uri": "https://localhost:8080/"
        },
        "id": "P9tYGtG22vrw",
        "outputId": "54619735-60e5-48d7-e376-0a8550ce900a"
      },
      "execution_count": 30,
      "outputs": [
        {
          "output_type": "stream",
          "name": "stdout",
          "text": [
            "Chi-square Variance Test Results:\n",
            "Sample Variance: 3.24\n",
            "Hypothesized Variance: 4.00\n",
            "Chi-square Statistic: 23.49\n",
            "Degrees of Freedom: 29\n",
            "P-value: 0.4927\n",
            "Critical Values (alpha=0.05): [16.05, 45.72]\n",
            "\n",
            "Interpretation:\n",
            "Fail to reject null hypothesis: No significant difference in variance.\n"
          ]
        },
        {
          "output_type": "execute_result",
          "data": {
            "text/plain": [
              "(np.float64(23.490335511603906), np.float64(0.49271816451627565))"
            ]
          },
          "metadata": {},
          "execution_count": 30
        }
      ]
    },
    {
      "cell_type": "markdown",
      "source": [
        "#25- Write a Python script to perform a Z-test for comparing proportions between two datasets or groups."
      ],
      "metadata": {
        "id": "SaVZpFZN2_62"
      }
    },
    {
      "cell_type": "code",
      "source": [
        "import numpy as np\n",
        "from scipy.stats import norm\n",
        "\n",
        "def z_test_proportions(success1, n1, success2, n2, alpha=0.05):\n",
        "    \"\"\"\n",
        "    Perform Z-test for comparing two proportions.\n",
        "\n",
        "    Parameters:\n",
        "    success1: int, number of successes in group 1\n",
        "    n1: int, sample size of group 1\n",
        "    success2: int, number of successes in group 2\n",
        "    n2: int, sample size of group 2\n",
        "    alpha: float, significance level (default=0.05)\n",
        "    \"\"\"\n",
        "    # Calculate proportions\n",
        "    p1 = success1 / n1\n",
        "    p2 = success2 / n2\n",
        "\n",
        "    # Pooled proportion\n",
        "    p_pooled = (success1 + success2) / (n1 + n2)\n",
        "\n",
        "    # Standard error\n",
        "    se = np.sqrt(p_pooled * (1 - p_pooled) * (1/n1 + 1/n2))\n",
        "\n",
        "    # Z-statistic\n",
        "    z_stat = (p1 - p2) / se\n",
        "\n",
        "    # Two-tailed p-value\n",
        "    p_value = 2 * (1 - norm.cdf(abs(z_stat)))\n",
        "\n",
        "    # Print results\n",
        "    print(\"Z-test for Proportions Results:\")\n",
        "    print(f\"Proportion 1: {p1:.4f} ({success1}/{n1})\")\n",
        "    print(f\"Proportion 2: {p2:.4f} ({success2}/{n2})\")\n",
        "    print(f\"Z-statistic: {z_stat:.2f}\")\n",
        "    print(f\"P-value: {p_value:.4f}\")\n",
        "\n",
        "    # Interpretation\n",
        "    print(\"\\nInterpretation:\")\n",
        "    if p_value < alpha:\n",
        "        print(\"Reject null hypothesis: Proportions are significantly different.\")\n",
        "    else:\n",
        "        print(\"Fail to reject null hypothesis: No significant difference in proportions.\")\n",
        "\n",
        "    return z_stat, p_value\n",
        "\n",
        "# Example: Comparing click-through rates\n",
        "success1, n1 = 50, 200  # Group 1: 50 clicks out of 200\n",
        "success2, n2 = 70, 250  # Group 2: 70 clicks out of 250\n",
        "\n",
        "z_test_proportions(success1, n1, success2, n2)"
      ],
      "metadata": {
        "colab": {
          "base_uri": "https://localhost:8080/"
        },
        "id": "XrcHReHj3CT2",
        "outputId": "9c0d7b93-3109-4d94-9bf4-fb1f1866f1ed"
      },
      "execution_count": 31,
      "outputs": [
        {
          "output_type": "stream",
          "name": "stdout",
          "text": [
            "Z-test for Proportions Results:\n",
            "Proportion 1: 0.2500 (50/200)\n",
            "Proportion 2: 0.2800 (70/250)\n",
            "Z-statistic: -0.72\n",
            "P-value: 0.4745\n",
            "\n",
            "Interpretation:\n",
            "Fail to reject null hypothesis: No significant difference in proportions.\n"
          ]
        },
        {
          "output_type": "execute_result",
          "data": {
            "text/plain": [
              "(np.float64(-0.7150969419341948), np.float64(0.4745491434494009))"
            ]
          },
          "metadata": {},
          "execution_count": 31
        }
      ]
    },
    {
      "cell_type": "markdown",
      "source": [
        "#26- Implement an F-test for comparing the variances of two datasets, then interpret and visualize the results"
      ],
      "metadata": {
        "id": "dUSpnPTQ3UHN"
      }
    },
    {
      "cell_type": "code",
      "source": [
        "import numpy as np\n",
        "from scipy.stats import f\n",
        "import matplotlib.pyplot as plt\n",
        "\n",
        "# Generate two random datasets\n",
        "np.random.seed(0)\n",
        "dataset1 = np.random.normal(loc=0, scale=1, size=100)\n",
        "dataset2 = np.random.normal(loc=0, scale=2, size=100)\n",
        "\n",
        "# Calculate the F-statistic\n",
        "var1 = np.var(dataset1, ddof=1)\n",
        "var2 = np.var(dataset2, ddof=1)\n",
        "f_statistic = var1 / var2\n",
        "\n",
        "# Calculate the degrees of freedom\n",
        "df1 = len(dataset1) - 1\n",
        "df2 = len(dataset2) - 1\n",
        "\n",
        "# Calculate the p-value\n",
        "p_value = 2 * (1 - f.cdf(f_statistic, df1, df2))\n",
        "\n",
        "print(f\"F-statistic: {f_statistic}\")\n",
        "print(f\"p-value: {p_value}\")\n",
        "\n",
        "# Interpret the results\n",
        "alpha = 0.05\n",
        "if p_value < alpha:\n",
        "    print(\"Reject the null hypothesis. The variances are significantly different.\")\n",
        "else:\n",
        "    print(\"Fail to reject the null hypothesis. The variances are not significantly different.\")\n",
        "\n",
        "# Visualize the results\n",
        "plt.hist(dataset1, alpha=0.5, label='Dataset 1')\n",
        "plt.hist(dataset2, alpha=0.5, label='Dataset 2')\n",
        "plt.legend()\n",
        "plt.show()\n"
      ],
      "metadata": {
        "colab": {
          "base_uri": "https://localhost:8080/",
          "height": 482
        },
        "id": "NgtX0aD13WLD",
        "outputId": "82dd8254-970a-4908-c3a0-072cb6fbdf66"
      },
      "execution_count": 33,
      "outputs": [
        {
          "output_type": "stream",
          "name": "stdout",
          "text": [
            "F-statistic: 0.2372238797154728\n",
            "p-value: 1.9999999999932974\n",
            "Fail to reject the null hypothesis. The variances are not significantly different.\n"
          ]
        },
        {
          "output_type": "display_data",
          "data": {
            "text/plain": [
              "<Figure size 640x480 with 1 Axes>"
            ],
            "image/png": "[encoded data removed]"
          },
          "metadata": {}
        }
      ]
    },
    {
      "cell_type": "markdown",
      "source": [
        "#27-Perform a Chi-square test for goodness of fit with simulated data and analyze the results"
      ],
      "metadata": {
        "id": "AAZAkU8d4I9X"
      }
    },
    {
      "cell_type": "code",
      "source": [
        "import numpy as np\n",
        "from scipy.stats import chisquare\n",
        "\n",
        "# Observed frequencies\n",
        "observed = np.array([16, 18, 16, 14, 12, 12])\n",
        "\n",
        "# Expected frequencies\n",
        "expected = np.array([14] * 6)\n",
        "\n",
        "# Perform Chi-square test\n",
        "chi2, p = chisquare(observed, expected)\n",
        "\n",
        "print(f\"Chi-square statistic: {chi2:.2f}\")\n",
        "print(f\"p-value: {p:.4f}\")\n",
        "\n",
        "if p < 0.05:\n",
        "    print(\"Reject null hypothesis\")\n",
        "else:\n",
        "    print(\"Fail to reject null hypothesis\")\n"
      ],
      "metadata": {
        "colab": {
          "base_uri": "https://localhost:8080/",
          "height": 391
        },
        "id": "6_nRbgDZ4LQ5",
        "outputId": "46096cf1-0c9a-4646-fa36-6b01aef801e6"
      },
      "execution_count": 35,
      "outputs": [
        {
          "output_type": "error",
          "ename": "ValueError",
          "evalue": "For each axis slice, the sum of the observed frequencies must agree with the sum of the expected frequencies to a relative tolerance of 1.4901161193847656e-08, but the percent differences are:\n0.047619047619047616",
          "traceback": [
            "\u001b[0;31m---------------------------------------------------------------------------\u001b[0m",
            "\u001b[0;31mValueError\u001b[0m                                Traceback (most recent call last)",
            "\u001b[0;32m<ipython-input-35-a5cfebd0f99f>\u001b[0m in \u001b[0;36m<cell line: 0>\u001b[0;34m()\u001b[0m\n\u001b[1;32m      9\u001b[0m \u001b[0;34m\u001b[0m\u001b[0m\n\u001b[1;32m     10\u001b[0m \u001b[0;31m# Perform Chi-square test\u001b[0m\u001b[0;34m\u001b[0m\u001b[0;34m\u001b[0m\u001b[0m\n\u001b[0;32m---> 11\u001b[0;31m \u001b[0mchi2\u001b[0m\u001b[0;34m,\u001b[0m \u001b[0mp\u001b[0m \u001b[0;34m=\u001b[0m \u001b[0mchisquare\u001b[0m\u001b[0;34m(\u001b[0m\u001b[0mobserved\u001b[0m\u001b[0;34m,\u001b[0m \u001b[0mexpected\u001b[0m\u001b[0;34m)\u001b[0m\u001b[0;34m\u001b[0m\u001b[0;34m\u001b[0m\u001b[0m\n\u001b[0m\u001b[1;32m     12\u001b[0m \u001b[0;34m\u001b[0m\u001b[0m\n\u001b[1;32m     13\u001b[0m \u001b[0mprint\u001b[0m\u001b[0;34m(\u001b[0m\u001b[0;34mf\"Chi-square statistic: {chi2:.2f}\"\u001b[0m\u001b[0;34m)\u001b[0m\u001b[0;34m\u001b[0m\u001b[0;34m\u001b[0m\u001b[0m\n",
            "\u001b[0;32m/usr/local/lib/python3.11/dist-packages/scipy/stats/_stats_py.py\u001b[0m in \u001b[0;36mchisquare\u001b[0;34m(f_obs, f_exp, ddof, axis)\u001b[0m\n\u001b[1;32m   7848\u001b[0m \u001b[0;34m\u001b[0m\u001b[0m\n\u001b[1;32m   7849\u001b[0m     \"\"\"  # noqa: E501\n\u001b[0;32m-> 7850\u001b[0;31m     return power_divergence(f_obs, f_exp=f_exp, ddof=ddof, axis=axis,\n\u001b[0m\u001b[1;32m   7851\u001b[0m                             lambda_=\"pearson\")\n\u001b[1;32m   7852\u001b[0m \u001b[0;34m\u001b[0m\u001b[0m\n",
            "\u001b[0;32m/usr/local/lib/python3.11/dist-packages/scipy/stats/_stats_py.py\u001b[0m in \u001b[0;36mpower_divergence\u001b[0;34m(f_obs, f_exp, ddof, axis, lambda_)\u001b[0m\n\u001b[1;32m   7639\u001b[0m                    \u001b[0;34mf\"of {rtol}, but the percent differences are:\\n\"\u001b[0m\u001b[0;34m\u001b[0m\u001b[0;34m\u001b[0m\u001b[0m\n\u001b[1;32m   7640\u001b[0m                    f\"{relative_diff}\")\n\u001b[0;32m-> 7641\u001b[0;31m             \u001b[0;32mraise\u001b[0m \u001b[0mValueError\u001b[0m\u001b[0;34m(\u001b[0m\u001b[0mmsg\u001b[0m\u001b[0;34m)\u001b[0m\u001b[0;34m\u001b[0m\u001b[0;34m\u001b[0m\u001b[0m\n\u001b[0m\u001b[1;32m   7642\u001b[0m \u001b[0;34m\u001b[0m\u001b[0m\n\u001b[1;32m   7643\u001b[0m     \u001b[0;32melse\u001b[0m\u001b[0;34m:\u001b[0m\u001b[0;34m\u001b[0m\u001b[0;34m\u001b[0m\u001b[0m\n",
            "\u001b[0;31mValueError\u001b[0m: For each axis slice, the sum of the observed frequencies must agree with the sum of the expected frequencies to a relative tolerance of 1.4901161193847656e-08, but the percent differences are:\n0.047619047619047616"
          ]
        }
      ]
    }
  ]
}